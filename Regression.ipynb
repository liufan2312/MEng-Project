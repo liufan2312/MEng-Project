{
 "cells": [
  {
   "cell_type": "code",
   "execution_count": 1,
   "metadata": {
    "collapsed": false
   },
   "outputs": [],
   "source": [
    "import pandas as pd\n",
    "import numpy as np\n",
    "from datetime import datetime, timedelta\n",
    "from sklearn import preprocessing\n",
    "from sklearn.linear_model import Lasso\n",
    "from sklearn.cross_validation import train_test_split\n",
    "from sklearn.ensemble import RandomForestRegressor\n",
    "from sklearn.ensemble import GradientBoostingRegressor"
   ]
  },
  {
   "cell_type": "code",
   "execution_count": 259,
   "metadata": {
    "collapsed": false
   },
   "outputs": [
    {
     "data": {
      "text/html": [
       "<div>\n",
       "<table border=\"1\" class=\"dataframe\">\n",
       "  <thead>\n",
       "    <tr style=\"text-align: right;\">\n",
       "      <th></th>\n",
       "      <th>crushdate</th>\n",
       "      <th>year</th>\n",
       "      <th>month</th>\n",
       "      <th>pblk</th>\n",
       "      <th>avg_brix</th>\n",
       "      <th>tier</th>\n",
       "      <th>origin</th>\n",
       "      <th>long</th>\n",
       "      <th>lat</th>\n",
       "      <th>yesterday_ddays50</th>\n",
       "      <th>...</th>\n",
       "      <th>humidity_1</th>\n",
       "      <th>humidity_2</th>\n",
       "      <th>humidity_3</th>\n",
       "      <th>cloud_cover_1</th>\n",
       "      <th>cloud_cover_2</th>\n",
       "      <th>cloud_cover_3</th>\n",
       "      <th>maxtemp_1</th>\n",
       "      <th>maxtemp_2</th>\n",
       "      <th>maxtemp_3</th>\n",
       "      <th>time_diff</th>\n",
       "    </tr>\n",
       "  </thead>\n",
       "  <tbody>\n",
       "    <tr>\n",
       "      <th>6098</th>\n",
       "      <td>2014-09-17</td>\n",
       "      <td>2014</td>\n",
       "      <td>9</td>\n",
       "      <td>138553</td>\n",
       "      <td>25.471429</td>\n",
       "      <td>VAL</td>\n",
       "      <td>CAL</td>\n",
       "      <td>-8469.2237</td>\n",
       "      <td>2653.3059</td>\n",
       "      <td>24.03</td>\n",
       "      <td>...</td>\n",
       "      <td>4.985406</td>\n",
       "      <td>56.870290</td>\n",
       "      <td>-0.058875</td>\n",
       "      <td>47.576303</td>\n",
       "      <td>-6.902911</td>\n",
       "      <td>-7.489102</td>\n",
       "      <td>6729.152438</td>\n",
       "      <td>5.386410</td>\n",
       "      <td>-0.172832</td>\n",
       "      <td>78</td>\n",
       "    </tr>\n",
       "    <tr>\n",
       "      <th>6099</th>\n",
       "      <td>2014-09-18</td>\n",
       "      <td>2014</td>\n",
       "      <td>9</td>\n",
       "      <td>102722</td>\n",
       "      <td>23.533333</td>\n",
       "      <td>OAK</td>\n",
       "      <td>LDT</td>\n",
       "      <td>-8506.0542</td>\n",
       "      <td>2681.2464</td>\n",
       "      <td>22.29</td>\n",
       "      <td>...</td>\n",
       "      <td>5.213777</td>\n",
       "      <td>58.821047</td>\n",
       "      <td>1.169062</td>\n",
       "      <td>54.530384</td>\n",
       "      <td>-17.834420</td>\n",
       "      <td>-14.386652</td>\n",
       "      <td>6644.170037</td>\n",
       "      <td>9.770275</td>\n",
       "      <td>1.167371</td>\n",
       "      <td>79</td>\n",
       "    </tr>\n",
       "    <tr>\n",
       "      <th>6100</th>\n",
       "      <td>2014-09-18</td>\n",
       "      <td>2014</td>\n",
       "      <td>9</td>\n",
       "      <td>131157</td>\n",
       "      <td>26.166667</td>\n",
       "      <td>VAL</td>\n",
       "      <td>CAL</td>\n",
       "      <td>-8475.6392</td>\n",
       "      <td>2657.1293</td>\n",
       "      <td>24.57</td>\n",
       "      <td>...</td>\n",
       "      <td>5.043957</td>\n",
       "      <td>57.186324</td>\n",
       "      <td>0.197274</td>\n",
       "      <td>46.818752</td>\n",
       "      <td>-11.441350</td>\n",
       "      <td>-9.490292</td>\n",
       "      <td>6714.229281</td>\n",
       "      <td>3.716271</td>\n",
       "      <td>-3.304802</td>\n",
       "      <td>79</td>\n",
       "    </tr>\n",
       "    <tr>\n",
       "      <th>6101</th>\n",
       "      <td>2014-09-18</td>\n",
       "      <td>2014</td>\n",
       "      <td>9</td>\n",
       "      <td>133581</td>\n",
       "      <td>27.275000</td>\n",
       "      <td>OAK</td>\n",
       "      <td>LDT</td>\n",
       "      <td>-8507.8084</td>\n",
       "      <td>2685.4520</td>\n",
       "      <td>23.02</td>\n",
       "      <td>...</td>\n",
       "      <td>5.189385</td>\n",
       "      <td>58.561797</td>\n",
       "      <td>1.032702</td>\n",
       "      <td>54.900021</td>\n",
       "      <td>-17.776238</td>\n",
       "      <td>-17.790562</td>\n",
       "      <td>6661.151729</td>\n",
       "      <td>5.188015</td>\n",
       "      <td>-2.016810</td>\n",
       "      <td>79</td>\n",
       "    </tr>\n",
       "    <tr>\n",
       "      <th>6102</th>\n",
       "      <td>2014-09-18</td>\n",
       "      <td>2014</td>\n",
       "      <td>9</td>\n",
       "      <td>138553</td>\n",
       "      <td>24.934783</td>\n",
       "      <td>VAL</td>\n",
       "      <td>CAL</td>\n",
       "      <td>-8469.2237</td>\n",
       "      <td>2653.3059</td>\n",
       "      <td>25.37</td>\n",
       "      <td>...</td>\n",
       "      <td>4.985406</td>\n",
       "      <td>56.870290</td>\n",
       "      <td>-0.058875</td>\n",
       "      <td>47.576303</td>\n",
       "      <td>-6.902911</td>\n",
       "      <td>-7.489102</td>\n",
       "      <td>6729.152438</td>\n",
       "      <td>5.386410</td>\n",
       "      <td>-0.172832</td>\n",
       "      <td>79</td>\n",
       "    </tr>\n",
       "  </tbody>\n",
       "</table>\n",
       "<p>5 rows × 122 columns</p>\n",
       "</div>"
      ],
      "text/plain": [
       "      crushdate  year  month    pblk   avg_brix tier origin       long  \\\n",
       "6098 2014-09-17  2014      9  138553  25.471429  VAL   CAL  -8469.2237   \n",
       "6099 2014-09-18  2014      9  102722  23.533333  OAK   LDT  -8506.0542   \n",
       "6100 2014-09-18  2014      9  131157  26.166667  VAL   CAL  -8475.6392   \n",
       "6101 2014-09-18  2014      9  133581  27.275000  OAK   LDT  -8507.8084   \n",
       "6102 2014-09-18  2014      9  138553  24.934783  VAL   CAL  -8469.2237   \n",
       "\n",
       "            lat  yesterday_ddays50    ...      humidity_1  humidity_2  \\\n",
       "6098  2653.3059              24.03    ...        4.985406   56.870290   \n",
       "6099  2681.2464              22.29    ...        5.213777   58.821047   \n",
       "6100  2657.1293              24.57    ...        5.043957   57.186324   \n",
       "6101  2685.4520              23.02    ...        5.189385   58.561797   \n",
       "6102  2653.3059              25.37    ...        4.985406   56.870290   \n",
       "\n",
       "      humidity_3  cloud_cover_1  cloud_cover_2  cloud_cover_3    maxtemp_1  \\\n",
       "6098   -0.058875      47.576303      -6.902911      -7.489102  6729.152438   \n",
       "6099    1.169062      54.530384     -17.834420     -14.386652  6644.170037   \n",
       "6100    0.197274      46.818752     -11.441350      -9.490292  6714.229281   \n",
       "6101    1.032702      54.900021     -17.776238     -17.790562  6661.151729   \n",
       "6102   -0.058875      47.576303      -6.902911      -7.489102  6729.152438   \n",
       "\n",
       "      maxtemp_2  maxtemp_3  time_diff  \n",
       "6098   5.386410  -0.172832         78  \n",
       "6099   9.770275   1.167371         79  \n",
       "6100   3.716271  -3.304802         79  \n",
       "6101   5.188015  -2.016810         79  \n",
       "6102   5.386410  -0.172832         79  \n",
       "\n",
       "[5 rows x 122 columns]"
      ]
     },
     "execution_count": 259,
     "metadata": {},
     "output_type": "execute_result"
    }
   ],
   "source": [
    "v = pd.read_csv('v201.csv')\n",
    "v['crushdate'] = pd.to_datetime(v['crushdate'], infer_datetime_format=True)\n",
    "v.tail()"
   ]
  },
  {
   "cell_type": "code",
   "execution_count": 260,
   "metadata": {
    "collapsed": false
   },
   "outputs": [],
   "source": [
    "lr_precip_intensity_adj = pd.read_csv('lr_precip_intensity_adj.csv')\n",
    "v = pd.merge(v, lr_precip_intensity_adj, how=\"left\", on='pblk')\n",
    "\n",
    "lr_dew_point = pd.read_csv('lr_dew_point.csv')\n",
    "v = pd.merge(v, lr_dew_point, how=\"left\", on='pblk')\n",
    "\n",
    "lr_wind_speed = pd.read_csv('lr_wind_speed.csv')\n",
    "v = pd.merge(v, lr_wind_speed, how=\"left\", on='pblk')"
   ]
  },
  {
   "cell_type": "code",
   "execution_count": 261,
   "metadata": {
    "collapsed": false
   },
   "outputs": [
    {
     "data": {
      "text/html": [
       "<div>\n",
       "<table border=\"1\" class=\"dataframe\">\n",
       "  <thead>\n",
       "    <tr style=\"text-align: right;\">\n",
       "      <th></th>\n",
       "      <th>crushdate</th>\n",
       "      <th>year</th>\n",
       "      <th>month</th>\n",
       "      <th>pblk</th>\n",
       "      <th>avg_brix</th>\n",
       "      <th>tier</th>\n",
       "      <th>origin</th>\n",
       "      <th>long</th>\n",
       "      <th>lat</th>\n",
       "      <th>yesterday_ddays50</th>\n",
       "      <th>...</th>\n",
       "      <th>time_diff</th>\n",
       "      <th>precip_intensity_adj_1</th>\n",
       "      <th>precip_intensity_adj_2</th>\n",
       "      <th>precip_intensity_adj_3</th>\n",
       "      <th>dew_point_1</th>\n",
       "      <th>dew_point_2</th>\n",
       "      <th>dew_point_3</th>\n",
       "      <th>wind_speed_1</th>\n",
       "      <th>wind_speed_2</th>\n",
       "      <th>wind_speed_3</th>\n",
       "    </tr>\n",
       "  </thead>\n",
       "  <tbody>\n",
       "    <tr>\n",
       "      <th>0</th>\n",
       "      <td>2001-08-11</td>\n",
       "      <td>2001</td>\n",
       "      <td>8</td>\n",
       "      <td>100094</td>\n",
       "      <td>22.900000</td>\n",
       "      <td>TLV</td>\n",
       "      <td>CAL</td>\n",
       "      <td>-8493.8518</td>\n",
       "      <td>2666.9468</td>\n",
       "      <td>20.11</td>\n",
       "      <td>...</td>\n",
       "      <td>41</td>\n",
       "      <td>12.407639</td>\n",
       "      <td>-2.707115</td>\n",
       "      <td>-0.700358</td>\n",
       "      <td>4125.090376</td>\n",
       "      <td>0.183495</td>\n",
       "      <td>-5.211436</td>\n",
       "      <td>515.986046</td>\n",
       "      <td>-222.910464</td>\n",
       "      <td>-73.488280</td>\n",
       "    </tr>\n",
       "    <tr>\n",
       "      <th>1</th>\n",
       "      <td>2001-08-11</td>\n",
       "      <td>2001</td>\n",
       "      <td>8</td>\n",
       "      <td>101177</td>\n",
       "      <td>23.200000</td>\n",
       "      <td>TLV</td>\n",
       "      <td>CAL</td>\n",
       "      <td>-8493.5375</td>\n",
       "      <td>2669.7853</td>\n",
       "      <td>20.81</td>\n",
       "      <td>...</td>\n",
       "      <td>41</td>\n",
       "      <td>12.999425</td>\n",
       "      <td>-3.264817</td>\n",
       "      <td>-0.098989</td>\n",
       "      <td>4128.209953</td>\n",
       "      <td>0.143645</td>\n",
       "      <td>-4.695178</td>\n",
       "      <td>503.338956</td>\n",
       "      <td>-215.340856</td>\n",
       "      <td>-73.222532</td>\n",
       "    </tr>\n",
       "    <tr>\n",
       "      <th>2</th>\n",
       "      <td>2001-08-11</td>\n",
       "      <td>2001</td>\n",
       "      <td>8</td>\n",
       "      <td>101545</td>\n",
       "      <td>22.571429</td>\n",
       "      <td>EJG</td>\n",
       "      <td>CAL</td>\n",
       "      <td>-8472.4521</td>\n",
       "      <td>2634.5172</td>\n",
       "      <td>22.42</td>\n",
       "      <td>...</td>\n",
       "      <td>41</td>\n",
       "      <td>10.235580</td>\n",
       "      <td>0.220781</td>\n",
       "      <td>-2.983798</td>\n",
       "      <td>4076.917825</td>\n",
       "      <td>-1.284886</td>\n",
       "      <td>-6.337803</td>\n",
       "      <td>515.317135</td>\n",
       "      <td>-236.107200</td>\n",
       "      <td>-65.948627</td>\n",
       "    </tr>\n",
       "    <tr>\n",
       "      <th>3</th>\n",
       "      <td>2001-08-11</td>\n",
       "      <td>2001</td>\n",
       "      <td>8</td>\n",
       "      <td>101669</td>\n",
       "      <td>21.675000</td>\n",
       "      <td>EJG</td>\n",
       "      <td>CAL</td>\n",
       "      <td>-8454.9913</td>\n",
       "      <td>2617.1782</td>\n",
       "      <td>23.55</td>\n",
       "      <td>...</td>\n",
       "      <td>41</td>\n",
       "      <td>10.047115</td>\n",
       "      <td>0.897956</td>\n",
       "      <td>-2.877895</td>\n",
       "      <td>4075.718767</td>\n",
       "      <td>-0.944277</td>\n",
       "      <td>-3.299170</td>\n",
       "      <td>500.669336</td>\n",
       "      <td>-230.924763</td>\n",
       "      <td>-64.681270</td>\n",
       "    </tr>\n",
       "    <tr>\n",
       "      <th>4</th>\n",
       "      <td>2001-08-11</td>\n",
       "      <td>2001</td>\n",
       "      <td>8</td>\n",
       "      <td>102031</td>\n",
       "      <td>23.550000</td>\n",
       "      <td>TLV</td>\n",
       "      <td>CAL</td>\n",
       "      <td>-8483.9258</td>\n",
       "      <td>2667.5747</td>\n",
       "      <td>21.44</td>\n",
       "      <td>...</td>\n",
       "      <td>41</td>\n",
       "      <td>11.610028</td>\n",
       "      <td>-1.849053</td>\n",
       "      <td>-1.498552</td>\n",
       "      <td>4119.498160</td>\n",
       "      <td>-0.279835</td>\n",
       "      <td>-5.062813</td>\n",
       "      <td>446.205289</td>\n",
       "      <td>-195.219930</td>\n",
       "      <td>-63.916341</td>\n",
       "    </tr>\n",
       "  </tbody>\n",
       "</table>\n",
       "<p>5 rows × 131 columns</p>\n",
       "</div>"
      ],
      "text/plain": [
       "   crushdate  year  month    pblk   avg_brix tier origin       long  \\\n",
       "0 2001-08-11  2001      8  100094  22.900000  TLV   CAL  -8493.8518   \n",
       "1 2001-08-11  2001      8  101177  23.200000  TLV   CAL  -8493.5375   \n",
       "2 2001-08-11  2001      8  101545  22.571429  EJG   CAL  -8472.4521   \n",
       "3 2001-08-11  2001      8  101669  21.675000  EJG   CAL  -8454.9913   \n",
       "4 2001-08-11  2001      8  102031  23.550000  TLV   CAL  -8483.9258   \n",
       "\n",
       "         lat  yesterday_ddays50      ...       time_diff  \\\n",
       "0  2666.9468              20.11      ...              41   \n",
       "1  2669.7853              20.81      ...              41   \n",
       "2  2634.5172              22.42      ...              41   \n",
       "3  2617.1782              23.55      ...              41   \n",
       "4  2667.5747              21.44      ...              41   \n",
       "\n",
       "   precip_intensity_adj_1  precip_intensity_adj_2  precip_intensity_adj_3  \\\n",
       "0               12.407639               -2.707115               -0.700358   \n",
       "1               12.999425               -3.264817               -0.098989   \n",
       "2               10.235580                0.220781               -2.983798   \n",
       "3               10.047115                0.897956               -2.877895   \n",
       "4               11.610028               -1.849053               -1.498552   \n",
       "\n",
       "   dew_point_1  dew_point_2  dew_point_3  wind_speed_1  wind_speed_2  \\\n",
       "0  4125.090376     0.183495    -5.211436    515.986046   -222.910464   \n",
       "1  4128.209953     0.143645    -4.695178    503.338956   -215.340856   \n",
       "2  4076.917825    -1.284886    -6.337803    515.317135   -236.107200   \n",
       "3  4075.718767    -0.944277    -3.299170    500.669336   -230.924763   \n",
       "4  4119.498160    -0.279835    -5.062813    446.205289   -195.219930   \n",
       "\n",
       "   wind_speed_3  \n",
       "0    -73.488280  \n",
       "1    -73.222532  \n",
       "2    -65.948627  \n",
       "3    -64.681270  \n",
       "4    -63.916341  \n",
       "\n",
       "[5 rows x 131 columns]"
      ]
     },
     "execution_count": 261,
     "metadata": {},
     "output_type": "execute_result"
    }
   ],
   "source": [
    "v.head()"
   ]
  },
  {
   "cell_type": "code",
   "execution_count": 262,
   "metadata": {
    "collapsed": false
   },
   "outputs": [],
   "source": [
    "# Standardize continuous columns and create dummy for categorical\n",
    "#categorical = ['tier', 'pblk']\n",
    "useless = ['crushdate', 'month', 'origin']\n",
    "\n",
    "#for item in categorical:\n",
    "#    dummy = pd.get_dummies(v[item], prefix=item)\n",
    "#    v = v.join(dummy.ix[:, :])\n",
    "#    v = v.drop(item, axis=1)\n",
    "    \n",
    "v = v.drop(useless, axis=1)"
   ]
  },
  {
   "cell_type": "code",
   "execution_count": 263,
   "metadata": {
    "collapsed": false
   },
   "outputs": [],
   "source": [
    "elnino = pd.read_csv('el nino.csv')"
   ]
  },
  {
   "cell_type": "code",
   "execution_count": 264,
   "metadata": {
    "collapsed": false
   },
   "outputs": [
    {
     "data": {
      "text/html": [
       "<div>\n",
       "<table border=\"1\" class=\"dataframe\">\n",
       "  <thead>\n",
       "    <tr style=\"text-align: right;\">\n",
       "      <th></th>\n",
       "      <th>year</th>\n",
       "      <th>1</th>\n",
       "      <th>2</th>\n",
       "      <th>3</th>\n",
       "      <th>4</th>\n",
       "      <th>5</th>\n",
       "      <th>6</th>\n",
       "      <th>7</th>\n",
       "      <th>8</th>\n",
       "      <th>9</th>\n",
       "      <th>10</th>\n",
       "      <th>11</th>\n",
       "      <th>12</th>\n",
       "    </tr>\n",
       "  </thead>\n",
       "  <tbody>\n",
       "    <tr>\n",
       "      <th>0</th>\n",
       "      <td>1950</td>\n",
       "      <td>-0.6</td>\n",
       "      <td>-0.6</td>\n",
       "      <td>-0.5</td>\n",
       "      <td>-0.6</td>\n",
       "      <td>-0.7</td>\n",
       "      <td>-0.8</td>\n",
       "      <td>-0.8</td>\n",
       "      <td>-0.6</td>\n",
       "      <td>-0.2</td>\n",
       "      <td>0.2</td>\n",
       "      <td>0.2</td>\n",
       "      <td>0.4</td>\n",
       "    </tr>\n",
       "    <tr>\n",
       "      <th>1</th>\n",
       "      <td>1951</td>\n",
       "      <td>0.5</td>\n",
       "      <td>0.7</td>\n",
       "      <td>0.8</td>\n",
       "      <td>0.9</td>\n",
       "      <td>0.7</td>\n",
       "      <td>0.6</td>\n",
       "      <td>0.5</td>\n",
       "      <td>0.4</td>\n",
       "      <td>0.4</td>\n",
       "      <td>0.4</td>\n",
       "      <td>0.4</td>\n",
       "      <td>0.2</td>\n",
       "    </tr>\n",
       "    <tr>\n",
       "      <th>2</th>\n",
       "      <td>1952</td>\n",
       "      <td>0.0</td>\n",
       "      <td>0.1</td>\n",
       "      <td>0.2</td>\n",
       "      <td>0.2</td>\n",
       "      <td>0.2</td>\n",
       "      <td>0.3</td>\n",
       "      <td>0.5</td>\n",
       "      <td>0.6</td>\n",
       "      <td>0.7</td>\n",
       "      <td>0.7</td>\n",
       "      <td>0.7</td>\n",
       "      <td>0.7</td>\n",
       "    </tr>\n",
       "    <tr>\n",
       "      <th>3</th>\n",
       "      <td>1953</td>\n",
       "      <td>0.7</td>\n",
       "      <td>0.7</td>\n",
       "      <td>0.8</td>\n",
       "      <td>0.8</td>\n",
       "      <td>0.8</td>\n",
       "      <td>0.7</td>\n",
       "      <td>0.7</td>\n",
       "      <td>0.4</td>\n",
       "      <td>0.0</td>\n",
       "      <td>-0.4</td>\n",
       "      <td>-0.5</td>\n",
       "      <td>-0.5</td>\n",
       "    </tr>\n",
       "    <tr>\n",
       "      <th>4</th>\n",
       "      <td>1954</td>\n",
       "      <td>-0.5</td>\n",
       "      <td>-0.7</td>\n",
       "      <td>-0.7</td>\n",
       "      <td>-0.6</td>\n",
       "      <td>-0.5</td>\n",
       "      <td>-0.5</td>\n",
       "      <td>-0.6</td>\n",
       "      <td>-0.6</td>\n",
       "      <td>-0.7</td>\n",
       "      <td>-0.7</td>\n",
       "      <td>-0.7</td>\n",
       "      <td>-0.6</td>\n",
       "    </tr>\n",
       "  </tbody>\n",
       "</table>\n",
       "</div>"
      ],
      "text/plain": [
       "   year    1    2    3    4    5    6    7    8    9   10   11   12\n",
       "0  1950 -0.6 -0.6 -0.5 -0.6 -0.7 -0.8 -0.8 -0.6 -0.2  0.2  0.2  0.4\n",
       "1  1951  0.5  0.7  0.8  0.9  0.7  0.6  0.5  0.4  0.4  0.4  0.4  0.2\n",
       "2  1952  0.0  0.1  0.2  0.2  0.2  0.3  0.5  0.6  0.7  0.7  0.7  0.7\n",
       "3  1953  0.7  0.7  0.8  0.8  0.8  0.7  0.7  0.4  0.0 -0.4 -0.5 -0.5\n",
       "4  1954 -0.5 -0.7 -0.7 -0.6 -0.5 -0.5 -0.6 -0.6 -0.7 -0.7 -0.7 -0.6"
      ]
     },
     "execution_count": 264,
     "metadata": {},
     "output_type": "execute_result"
    }
   ],
   "source": [
    "elnino.head()"
   ]
  },
  {
   "cell_type": "code",
   "execution_count": 265,
   "metadata": {
    "collapsed": false
   },
   "outputs": [],
   "source": [
    "v = pd.merge(v, elnino, how=\"left\", on='year')"
   ]
  },
  {
   "cell_type": "code",
   "execution_count": 266,
   "metadata": {
    "collapsed": false
   },
   "outputs": [],
   "source": [
    "#continuous = ['long', 'lat', 'yesterday_ddays50', 'yesterday_ddays50_97', 'yesterday_ddays97', 'yesterday_humidity', \n",
    "#              'yesterday_cloud_cover', 'yesterday_pressure', 'yesterday_maxtemp', 'yesterday_mintemp',\n",
    "#              'yesterday_meantemp', 'yesterday_precip_intensity', 'last_week_ddays50', 'last_week_ddays50_97',\n",
    "#              'last_week_ddays97', 'last_week_humidity', 'last_week_cloud_cover', 'last_week_pressure',\n",
    "#              'last_week_maxtemp', 'last_week_mintemp', 'last_week_meantemp', 'last_week_precip_intensity',\n",
    "#              'last_month_ddays50', 'last_month_ddays50_97', 'last_month_ddays97', 'last_month_humidity',\n",
    "#              'last_month_cloud_cover', 'last_month_pressure', 'last_month_maxtemp', 'last_month_mintemp',\n",
    "#              'last_month_meantemp', 'last_month_precip_intensity', 'last_2week_ddays50', 'last_2week_ddays50_97',\n",
    "#              'last_2week_ddays97', 'last_2week_humidity', 'last_2week_cloud_cover', 'last_2week_pressure',\n",
    "#              'last_2week_maxtemp','last_2week_mintemp', 'last_2week_meantemp', 'last_2week_precip_intensity', 'three_month_before_ddays50', 'three_month_before_ddays50_97', \n",
    "#              'three_month_before_ddays97', 'three_month_before_humidity', 'three_month_before_cloud_cover', \n",
    "#              'three_month_before_pressure', 'three_month_before_maxtemp', 'three_month_before_mintemp', \n",
    "#              'three_month_before_meantemp', 'three_month_before_precip_intensity', 'four_month_before_ddays50', \n",
    "#              'four_month_before_ddays50_97', 'four_month_before_ddays97', 'four_month_before_humidity',\n",
    "#              'four_month_before_cloud_cover', 'four_month_before_pressure', 'four_month_before_maxtemp',\n",
    "#              'four_month_before_mintemp', 'four_month_before_meantemp', 'four_month_before_precip_intensity',\n",
    "#              'five_month_before_ddays50', 'five_month_before_ddays50_97', 'five_month_before_ddays97',\n",
    "#              'five_month_before_humidity', 'five_month_before_cloud_cover', 'five_month_before_pressure',\n",
    "#              'five_month_before_maxtemp', 'five_month_before_mintemp', 'five_month_before_meantemp',\n",
    "#              'five_month_before_precip_intensity', 'six_month_before_ddays50', 'six_month_before_ddays50_97',\n",
    "#              'six_month_before_ddays97', 'six_month_before_humidity', 'six_month_before_cloud_cover',\n",
    "#              'six_month_before_pressure', 'six_month_before_maxtemp', 'six_month_before_mintemp',\n",
    "#              'six_month_before_meantemp', 'six_month_before_precip_intensity', 'seven_month_before_ddays50',\n",
    "#              'seven_month_before_ddays50_97', 'seven_month_before_ddays97', 'seven_month_before_humidity',\n",
    "#              'seven_month_before_cloud_cover', 'seven_month_before_pressure', 'seven_month_before_maxtemp',\n",
    "#              'seven_month_before_mintemp', 'seven_month_before_meantemp', 'seven_month_before_precip_intensity',\n",
    "#              'eight_month_before_ddays50', 'eight_month_before_ddays50_97', 'eight_month_before_ddays97',\n",
    "#              'eight_month_before_humidity', 'eight_month_before_cloud_cover', 'eight_month_before_pressure',\n",
    "#              'eight_month_before_maxtemp', 'eight_month_before_mintemp', 'eight_month_before_meantemp',\n",
    "#              'eight_month_before_precip_intensity', 'ddays50_1', 'ddays50_2', 'ddays50_3', 'humidity_1',\n",
    "#              'humidity_2', 'humidity_3', 'cloud_cover_1', 'cloud_cover_2', 'cloud_cover_3', 'maxtemp_1',\n",
    "#              'maxtemp_2', 'maxtemp_3', 'precip_intensity_adj_1', 'precip_intensity_adj_2',\n",
    "#              'precip_intensity_adj_3', 'dew_point_1', 'dew_point_2', 'dew_point_3', 'wind_speed_1',\n",
    "#              'wind_speed_2', 'wind_speed_3', '1', '2', '3', '4', '5', '6', '7', '8', '9', '10', '11', '12']\n",
    "\n",
    "#scalar = preprocessing.StandardScaler()\n",
    "#scalar.fit(v[continuous])\n",
    "#v[continuous] = scalar.transform(v[continuous])"
   ]
  },
  {
   "cell_type": "code",
   "execution_count": 267,
   "metadata": {
    "collapsed": false
   },
   "outputs": [
    {
     "data": {
      "text/plain": [
       "count    6103.000000\n",
       "mean        0.020744\n",
       "std         0.398821\n",
       "min        -0.800000\n",
       "25%        -0.300000\n",
       "50%         0.000000\n",
       "75%         0.200000\n",
       "max         0.800000\n",
       "Name: 1, dtype: float64"
      ]
     },
     "execution_count": 267,
     "metadata": {},
     "output_type": "execute_result"
    }
   ],
   "source": [
    "v['1'].describe()"
   ]
  },
  {
   "cell_type": "code",
   "execution_count": 268,
   "metadata": {
    "collapsed": true
   },
   "outputs": [],
   "source": [
    "#y = v['avg_brix']\n",
    "#X = v.drop(['avg_brix', 'year'], axis=1)\n",
    "#X_train, X_test, y_train, y_test = train_test_split(X, y, test_size=0.2)"
   ]
  },
  {
   "cell_type": "code",
   "execution_count": 269,
   "metadata": {
    "collapsed": false
   },
   "outputs": [],
   "source": [
    "#X_train.to_csv('xtrain.csv')\n",
    "#X_test.to_csv('xtest.csv')\n",
    "#y_train.to_csv('ytrain.csv')\n",
    "#y_test.to_csv('ytest.csv')"
   ]
  },
  {
   "cell_type": "code",
   "execution_count": 270,
   "metadata": {
    "collapsed": false
   },
   "outputs": [],
   "source": [
    "v.columns = ['year',\n",
    " 'pblk',\n",
    " 'avg_brix',\n",
    " 'tier',\n",
    " 'long',\n",
    " 'lat',\n",
    " 'yesterday_ddays50',\n",
    " 'yesterday_ddays50_97',\n",
    " 'yesterday_ddays97',\n",
    " 'yesterday_humidity',\n",
    " 'yesterday_cloud_cover',\n",
    " 'yesterday_pressure',\n",
    " 'yesterday_maxtemp',\n",
    " 'yesterday_mintemp',\n",
    " 'yesterday_meantemp',\n",
    " 'yesterday_precip_intensity',\n",
    " 'last_week_ddays50',\n",
    " 'last_week_ddays50_97',\n",
    " 'last_week_ddays97',\n",
    " 'last_week_humidity',\n",
    " 'last_week_cloud_cover',\n",
    " 'last_week_pressure',\n",
    " 'last_week_maxtemp',\n",
    " 'last_week_mintemp',\n",
    " 'last_week_meantemp',\n",
    " 'last_week_precip_intensity',\n",
    " 'last_month_ddays50',\n",
    " 'last_month_ddays50_97',\n",
    " 'last_month_ddays97',\n",
    " 'last_month_humidity',\n",
    " 'last_month_cloud_cover',\n",
    " 'last_month_pressure',\n",
    " 'last_month_maxtemp',\n",
    " 'last_month_mintemp',\n",
    " 'last_month_meantemp',\n",
    " 'last_month_precip_intensity',\n",
    " 'last_2week_ddays50',\n",
    " 'last_2week_ddays50_97',\n",
    " 'last_2week_ddays97',\n",
    " 'last_2week_humidity',\n",
    " 'last_2week_cloud_cover',\n",
    " 'last_2week_pressure',\n",
    " 'last_2week_maxtemp',\n",
    " 'last_2week_mintemp',\n",
    " 'last_2week_meantemp',\n",
    " 'last_2week_precip_intensity',\n",
    " 'three_month_before_ddays50',\n",
    " 'three_month_before_ddays50_97',\n",
    " 'three_month_before_ddays97',\n",
    " 'three_month_before_humidity',\n",
    " 'three_month_before_cloud_cover',\n",
    " 'three_month_before_pressure',\n",
    " 'three_month_before_maxtemp',\n",
    " 'three_month_before_mintemp',\n",
    " 'three_month_before_meantemp',\n",
    " 'three_month_before_precip_intensity',\n",
    " 'four_month_before_ddays50',\n",
    " 'four_month_before_ddays50_97',\n",
    " 'four_month_before_ddays97',\n",
    " 'four_month_before_humidity',\n",
    " 'four_month_before_cloud_cover',\n",
    " 'four_month_before_pressure',\n",
    " 'four_month_before_maxtemp',\n",
    " 'four_month_before_mintemp',\n",
    " 'four_month_before_meantemp',\n",
    " 'four_month_before_precip_intensity',\n",
    " 'five_month_before_ddays50',\n",
    " 'five_month_before_ddays50_97',\n",
    " 'five_month_before_ddays97',\n",
    " 'five_month_before_humidity',\n",
    " 'five_month_before_cloud_cover',\n",
    " 'five_month_before_pressure',\n",
    " 'five_month_before_maxtemp',\n",
    " 'five_month_before_mintemp',\n",
    " 'five_month_before_meantemp',\n",
    " 'five_month_before_precip_intensity',\n",
    " 'six_month_before_ddays50',\n",
    " 'six_month_before_ddays50_97',\n",
    " 'six_month_before_ddays97',\n",
    " 'six_month_before_humidity',\n",
    " 'six_month_before_cloud_cover',\n",
    " 'six_month_before_pressure',\n",
    " 'six_month_before_maxtemp',\n",
    " 'six_month_before_mintemp',\n",
    " 'six_month_before_meantemp',\n",
    " 'six_month_before_precip_intensity',\n",
    " 'seven_month_before_ddays50',\n",
    " 'seven_month_before_ddays50_97',\n",
    " 'seven_month_before_ddays97',\n",
    " 'seven_month_before_humidity',\n",
    " 'seven_month_before_cloud_cover',\n",
    " 'seven_month_before_pressure',\n",
    " 'seven_month_before_maxtemp',\n",
    " 'seven_month_before_mintemp',\n",
    " 'seven_month_before_meantemp',\n",
    " 'seven_month_before_precip_intensity',\n",
    " 'eight_month_before_ddays50',\n",
    " 'eight_month_before_ddays50_97',\n",
    " 'eight_month_before_ddays97',\n",
    " 'eight_month_before_humidity',\n",
    " 'eight_month_before_cloud_cover',\n",
    " 'eight_month_before_pressure',\n",
    " 'eight_month_before_maxtemp',\n",
    " 'eight_month_before_mintemp',\n",
    " 'eight_month_before_meantemp',\n",
    " 'eight_month_before_precip_intensity',\n",
    " 'ddays50_1',\n",
    " 'ddays50_2',\n",
    " 'ddays50_3',\n",
    " 'humidity_1',\n",
    " 'humidity_2',\n",
    " 'humidity_3',\n",
    " 'cloud_cover_1',\n",
    " 'cloud_cover_2',\n",
    " 'cloud_cover_3',\n",
    " 'maxtemp_1',\n",
    " 'maxtemp_2',\n",
    " 'maxtemp_3',\n",
    " 'time_diff',\n",
    " 'precip_intensity_adj_1',\n",
    " 'precip_intensity_adj_2',\n",
    " 'precip_intensity_adj_3',\n",
    " 'dew_point_1',\n",
    " 'dew_point_2',\n",
    " 'dew_point_3',\n",
    " 'wind_speed_1',\n",
    " 'wind_speed_2',\n",
    " 'wind_speed_3',\n",
    " 'yearly_elnino_jja',\n",
    " 'yearly_elnino_jas',\n",
    " 'yearly_elnino_aso',\n",
    " 'yearly_elnino_son',\n",
    " 'yearly_elnino_ond',\n",
    " 'yearly_elnino_ndj',\n",
    " 'yearly_elnino_djf',\n",
    " 'yearly_elnino_jfm',\n",
    " 'yearly_elnino_fma',\n",
    " 'yearly_elnino_mam',\n",
    " 'yearly_elnino_amj',\n",
    " 'yearly_elnino_mjj']"
   ]
  },
  {
   "cell_type": "code",
   "execution_count": 271,
   "metadata": {
    "collapsed": false
   },
   "outputs": [],
   "source": [
    "col = ['year',\n",
    " 'pblk',\n",
    " 'avg_brix',\n",
    "'time_diff',\n",
    " 'tier',\n",
    " 'long',\n",
    " 'lat',\n",
    " 'ddays50_1',\n",
    " 'ddays50_2',\n",
    " 'ddays50_3',\n",
    " 'humidity_1',\n",
    " 'humidity_2',\n",
    " 'humidity_3',\n",
    " 'cloud_cover_1',\n",
    " 'cloud_cover_2',\n",
    " 'cloud_cover_3',\n",
    " 'maxtemp_1',\n",
    " 'maxtemp_2',\n",
    " 'maxtemp_3',\n",
    " 'precip_intensity_adj_1',\n",
    " 'precip_intensity_adj_2',\n",
    " 'precip_intensity_adj_3',\n",
    " 'dew_point_1',\n",
    " 'dew_point_2',\n",
    " 'dew_point_3',\n",
    " 'wind_speed_1',\n",
    " 'wind_speed_2',\n",
    " 'wind_speed_3',\n",
    " 'yearly_elnino_jja',\n",
    " 'yearly_elnino_jas',\n",
    " 'yearly_elnino_aso',\n",
    " 'yearly_elnino_son',\n",
    " 'yearly_elnino_ond',\n",
    " 'yearly_elnino_ndj',\n",
    " 'yearly_elnino_djf',\n",
    " 'yearly_elnino_jfm',\n",
    " 'yearly_elnino_fma',\n",
    " 'yearly_elnino_mam',\n",
    " 'yearly_elnino_amj',\n",
    " 'yearly_elnino_mjj']\n",
    "v = v[col]"
   ]
  },
  {
   "cell_type": "code",
   "execution_count": 272,
   "metadata": {
    "collapsed": false
   },
   "outputs": [],
   "source": [
    "#train = v[v['year'] != 2014]\n",
    "#test = v[v['year'] == 2014]\n",
    "#train = train.drop('year', axis=1)\n",
    "#test = test.drop('year', axis=1)"
   ]
  },
  {
   "cell_type": "code",
   "execution_count": 273,
   "metadata": {
    "collapsed": false
   },
   "outputs": [],
   "source": [
    "#y_train = train['avg_brix']\n",
    "#X_train = train.drop('avg_brix', axis=1)\n",
    "#y_test = test['avg_brix']\n",
    "#X_test = test.drop('avg_brix', axis=1)"
   ]
  },
  {
   "cell_type": "code",
   "execution_count": 274,
   "metadata": {
    "collapsed": false
   },
   "outputs": [],
   "source": [
    "# Construct training set for smooth regularization\n",
    "\n",
    "# Check if there is new pblk and new tier in 2014, no\n",
    "# s1 = set(X_train['pblk'].unique().tolist())\n",
    "# s2 = set(X_test['pblk'].unique().tolist())\n",
    "\n",
    "#X_train = X_train.sort_values(['pblk', 'tier'])\n",
    "#X_train_smooth = pd.DataFrame()\n",
    "#groups = X_train.groupby(['pblk', 'tier'])\n",
    "#for key, df in groups:\n",
    "#    temp = df[col[4 :]].copy()\n",
    "#    temp[str(key[0]) + key[1]] = temp['time_diff']\n",
    "#    temp = temp.drop('time_diff', axis=1)\n",
    "#    X_train_smooth = X_train_smooth.append(temp)"
   ]
  },
  {
   "cell_type": "code",
   "execution_count": 275,
   "metadata": {
    "collapsed": false
   },
   "outputs": [],
   "source": [
    "#X_train_smooth = X_train_smooth.fillna(value=0)"
   ]
  },
  {
   "cell_type": "code",
   "execution_count": 276,
   "metadata": {
    "collapsed": false
   },
   "outputs": [],
   "source": [
    "# Construct test set\n",
    "#X_test_smooth = pd.DataFrame()\n",
    "#groups = X_test.groupby(['pblk', 'tier'])\n",
    "#for key, df in groups:\n",
    "#    temp = df[col[4 :]].copy()\n",
    "#    temp[str(key[0]) + key[1]] = temp['time_diff']\n",
    "#    temp = temp.drop('time_diff', axis=1)\n",
    "#    X_test_smooth = X_test_smooth.append(temp)"
   ]
  },
  {
   "cell_type": "code",
   "execution_count": 277,
   "metadata": {
    "collapsed": true
   },
   "outputs": [],
   "source": [
    "# Add intercept\n",
    "#X_train_smooth['intercept'] = 1\n",
    "#X_test_smooth['intercept'] = 1\n",
    "\n",
    "#train_test = X_train_smooth.append(X_test_smooth)\n",
    "#train_test = train_test.fillna(value=0)\n",
    "#X_train = train_test.iloc[:X_train_smooth.shape[0]]\n",
    "#X_test = train_test.iloc[X_train_smooth.shape[0]:]"
   ]
  },
  {
   "cell_type": "code",
   "execution_count": 278,
   "metadata": {
    "collapsed": false
   },
   "outputs": [],
   "source": [
    "#len(X_test.columns.tolist())"
   ]
  },
  {
   "cell_type": "markdown",
   "metadata": {},
   "source": [
    "# Neural Net"
   ]
  },
  {
   "cell_type": "code",
   "execution_count": 22,
   "metadata": {
    "collapsed": false
   },
   "outputs": [],
   "source": [
    "#from keras.models import Sequential\n",
    "#from keras.layers import Dense\n",
    "\n",
    "#model = Sequential()\n",
    "#model.add(Dense(300, input_dim=X_train.shape[1], init='uniform', activation='relu'))\n",
    "#model.add(Dense(20, init='uniform', activation='relu'))\n",
    "#model.add(Dense(1, init='uniform'))\n",
    "# Compile model\n",
    "#model.compile(loss='mean_squared_error', optimizer='adam', metrics=['mean_absolute_error'])\n",
    "# Fit the model\n",
    "#model.fit(X_train.as_matrix(), y_train.as_matrix(), nb_epoch=100, batch_size=10)\n",
    "\n",
    "# evaluate the model\n",
    "#scores = model.evaluate(X_test.as_matrix(), y_test.as_matrix())\n",
    "#print(model.metrics_names[1],':',scores[1])"
   ]
  },
  {
   "cell_type": "markdown",
   "metadata": {},
   "source": [
    "# Test on artificial data and try to extrapolate"
   ]
  },
  {
   "cell_type": "code",
   "execution_count": 23,
   "metadata": {
    "collapsed": false
   },
   "outputs": [],
   "source": [
    "#a = pd.read_csv('artificial_test.csv')\n",
    "#a = a.drop('Unnamed: 0', axis=1)\n",
    "#a.shape[1]"
   ]
  },
  {
   "cell_type": "code",
   "execution_count": 24,
   "metadata": {
    "collapsed": false,
    "scrolled": true
   },
   "outputs": [],
   "source": [
    "#a_brix = model.predict(a.as_matrix())\n",
    "#a_brix"
   ]
  },
  {
   "cell_type": "markdown",
   "metadata": {},
   "source": [
    "# Plot the extrapolated part"
   ]
  },
  {
   "cell_type": "code",
   "execution_count": 25,
   "metadata": {
    "collapsed": false
   },
   "outputs": [],
   "source": [
    "#v = pd.read_csv('v201.csv')\n",
    "#v['crushdate'] = pd.to_datetime(v['crushdate'], infer_datetime_format=True)\n",
    "#sub_v = v[(v['pblk'] == 100966) & (v['year'] == 2014) & (v['tier'] == 'OAK')]"
   ]
  },
  {
   "cell_type": "code",
   "execution_count": 26,
   "metadata": {
    "collapsed": true
   },
   "outputs": [],
   "source": [
    "#from datetime import date\n",
    "#import matplotlib.pyplot as plt\n",
    "#%matplotlib inline"
   ]
  },
  {
   "cell_type": "code",
   "execution_count": 27,
   "metadata": {
    "collapsed": false
   },
   "outputs": [],
   "source": [
    "#start_date = date(2014, 8, 15)\n",
    "#end_date = date(2014, 9, 11)\n",
    "#a['crushdate'] = pd.date_range(start_date, end_date)\n",
    "\n",
    "#plt.plot(sub_v['crushdate'], sub_v['avg_brix'])\n",
    "#plt.plot(a['crushdate'], a_brix)\n",
    "#plt.ylim(20, 26)"
   ]
  },
  {
   "cell_type": "code",
   "execution_count": 28,
   "metadata": {
    "collapsed": false
   },
   "outputs": [],
   "source": [
    "#start_date = date(2014, 8, 15)\n",
    "#end_date = date(2014, 9, 1)\n",
    "#a['crushdate'] = pd.date_range(start_date, end_date)\n",
    "\n",
    "#plt.plot(sub_v['crushdate'], sub_v['avg_brix'])\n",
    "#plt.plot(a['crushdate'], a_brix)\n",
    "#plt.ylim(20, 26)"
   ]
  },
  {
   "cell_type": "markdown",
   "metadata": {},
   "source": [
    "## Sparse regression"
   ]
  },
  {
   "cell_type": "code",
   "execution_count": 29,
   "metadata": {
    "collapsed": false
   },
   "outputs": [],
   "source": [
    "#model = Lasso(alpha=0.002, max_iter=4000)\n",
    "#model.fit(X_train, y_train)\n",
    "#print('Training R^2 score: ', model.score(X_train, y_train))\n",
    "#print('Test R^2 score: ', model.score(X_test, y_test))\n",
    "\n",
    "# calculate mean absolute error for training set\n",
    "#y_pred = model.predict(X_test)\n",
    "#print('Mean absolute error: ', abs(y_test - y_pred).mean())\n",
    "#print('Mean absolute percentage error: ', (abs(y_test - y_pred) / y_test).mean())\n",
    "\n",
    "#coef = pd.DataFrame(columns=['feature', 'coef'])\n",
    "#coef['feature'] = X_train.columns.tolist()\n",
    "#coef['coef'] = model.coef_\n",
    "#coef['abs_coef'] = coef['coef'].apply(abs)\n",
    "\n",
    "#print('Intercept: ', model.intercept_)\n",
    "\n",
    "#coef = coef.sort_values('abs_coef', ascending=False)\n",
    "#coef[['feature', 'coef']].head(30)"
   ]
  },
  {
   "cell_type": "markdown",
   "metadata": {},
   "source": [
    "## Gradient boosting regressor"
   ]
  },
  {
   "cell_type": "code",
   "execution_count": 30,
   "metadata": {
    "collapsed": false
   },
   "outputs": [],
   "source": [
    "#model = GradientBoostingRegressor(loss='huber', learning_rate=0.01, n_estimators=50, max_features=None, max_depth=30)\n",
    "#model.fit(X_train, y_train)\n",
    "#print('Training R^2 score: ', model.score(X_train, y_train))\n",
    "#print('Test R^2 score: ', model.score(X_test, y_test))\n",
    "\n",
    "# calculate mean absolute error for training set\n",
    "#y_pred = model.predict(X_test)\n",
    "#print('Mean absolute error: ', abs(y_test - y_pred).mean())\n",
    "#print('Mean absolute percentage error: ', (abs(y_test - y_pred) / y).mean())\n",
    "\n",
    "#importance = pd.DataFrame(columns=['feature', 'importance'])\n",
    "#importance['feature'] = X.columns.tolist()\n",
    "#importance['importance'] = model.feature_importances_\n",
    "\n",
    "#importance = importance.sort_values('importance', ascending=False)\n",
    "#importance.head(30)"
   ]
  },
  {
   "cell_type": "markdown",
   "metadata": {},
   "source": [
    "# Try Sparse Regression with CVXPY"
   ]
  },
  {
   "cell_type": "code",
   "execution_count": 26,
   "metadata": {
    "collapsed": true
   },
   "outputs": [],
   "source": [
    "import cvxpy as cv"
   ]
  },
  {
   "cell_type": "code",
   "execution_count": 32,
   "metadata": {
    "collapsed": false
   },
   "outputs": [],
   "source": [
    "# Define parameter\n",
    "#x = np.asmatrix(X_train)\n",
    "#y = np.asmatrix(y_train).T\n",
    "\n",
    "#x_test = np.asmatrix(X_test)\n",
    "#y_test = np.asmatrix(y_test).T"
   ]
  },
  {
   "cell_type": "code",
   "execution_count": 33,
   "metadata": {
    "collapsed": false
   },
   "outputs": [],
   "source": [
    "# Define variable w, the coefficient of each feature\n",
    "#alpha_1 = 0.1\n",
    "#alpha_2 = 5\n",
    "#w = cv.Variable(x.shape[1])\n",
    "\n",
    "# Define constraints and objective\n",
    "#constraints = [w[:814] > 0]\n",
    "#obj = cv.Minimize(cv.sum_entries(cv.huber(x * w - y)) + alpha_1 * cv.norm(w[814:], 1) + alpha_2 * cv.norm(w[:814], 1))\n",
    "\n",
    "# Solve problem\n",
    "#prob = cv.Problem(obj, constraints)\n",
    "#prob.solve()\n",
    "#print('objective value: ', prob.value)\n",
    "#print('status:', prob.status)\n",
    "    \n",
    "#y_pred = x_test * w.value\n",
    "#mae = abs(y_pred - y_test).mean()\n",
    "#print(mae)"
   ]
  },
  {
   "cell_type": "code",
   "execution_count": 34,
   "metadata": {
    "collapsed": false
   },
   "outputs": [],
   "source": [
    "#features = pd.DataFrame(columns=['feature', 'coef'])\n",
    "#features['feature'] = X_train.columns.tolist()\n",
    "#features['coef'] = w.value\n",
    "#features['coef_abs'] = abs(features['coef'])\n",
    "#features = features.sort_values('coef_abs', ascending=False)\n",
    "#features[['feature', 'coef']].head(30)"
   ]
  },
  {
   "cell_type": "code",
   "execution_count": 35,
   "metadata": {
    "collapsed": false
   },
   "outputs": [],
   "source": [
    "#features['is_pblk'] = features['feature'].apply(lambda x: 1 if 'pblk' in x else 0)\n",
    "#features['is_tier'] = features['feature'].apply(lambda x: 1 if 'tier' in x else 0)\n",
    "#features['is_origin'] = features['feature'].apply(lambda x: 1 if 'origin' in x else 0)\n",
    "#features['is_yearly'] = features['feature'].apply(lambda x: 1 if 'yearly' in x else 0)\n",
    "#features.set_value(0, 'is_pblk', 1)\n",
    "#features.set_value(1, 'is_pblk', 1);"
   ]
  },
  {
   "cell_type": "code",
   "execution_count": 36,
   "metadata": {
    "collapsed": false
   },
   "outputs": [],
   "source": [
    "#sub = features[(features['is_pblk'] != 1) & (features['is_tier'] != 1) & (features['is_yearly'] != 1) & (features['is_origin'] != 1)]\n",
    "#sub.head(5)"
   ]
  },
  {
   "cell_type": "code",
   "execution_count": 37,
   "metadata": {
    "collapsed": false
   },
   "outputs": [],
   "source": [
    "#count = X_train[X_train.columns.tolist()[:814]].astype(bool).sum(axis=0).tolist()\n",
    "#sub = features.sort_values('feature').iloc[0:814].copy()\n",
    "#sub['count'] = count\n",
    "#sub = sub.sort_values('coef', ascending=False)\n",
    "#sub.head(5)"
   ]
  },
  {
   "cell_type": "code",
   "execution_count": 38,
   "metadata": {
    "collapsed": false
   },
   "outputs": [],
   "source": [
    "#X_train.columns.tolist()[44]"
   ]
  },
  {
   "cell_type": "code",
   "execution_count": 39,
   "metadata": {
    "collapsed": false
   },
   "outputs": [],
   "source": [
    "#w.value[44]"
   ]
  },
  {
   "cell_type": "code",
   "execution_count": 40,
   "metadata": {
    "collapsed": false
   },
   "outputs": [],
   "source": [
    "#np.asmatrix(X_test[X_test['100966OAK'] > 0].iloc[0][814:]) * w.value[814:]"
   ]
  },
  {
   "cell_type": "markdown",
   "metadata": {
    "collapsed": true
   },
   "source": [
    "We want to fit one line to all the points in one pblk for one tier across all years. To do that, we first generate sets training data."
   ]
  },
  {
   "cell_type": "code",
   "execution_count": 27,
   "metadata": {
    "collapsed": true
   },
   "outputs": [],
   "source": [
    "import matplotlib.pyplot as plt\n",
    "%matplotlib inline"
   ]
  },
  {
   "cell_type": "code",
   "execution_count": 279,
   "metadata": {
    "collapsed": true
   },
   "outputs": [],
   "source": [
    "v['int'] = 1\n",
    "dummy = pd.get_dummies(v['tier'], prefix='tier')\n",
    "v = v.join(dummy.ix[:, :])"
   ]
  },
  {
   "cell_type": "code",
   "execution_count": 280,
   "metadata": {
    "collapsed": true
   },
   "outputs": [],
   "source": [
    "all_train = v[v['year'] != 2014]\n",
    "test = v[v['year'] == 2014]"
   ]
  },
  {
   "cell_type": "code",
   "execution_count": 29,
   "metadata": {
    "collapsed": false
   },
   "outputs": [],
   "source": [
    "#poly = preprocessing.PolynomialFeatures()\n",
    "#v_a = v[['year', 'pblk', 'avg_brix', 'tier', 'time_diff']]\n",
    "#v_b = v.drop(['year', 'pblk', 'avg_brix', 'tier', 'time_diff'], axis=1)\n",
    "\n",
    "#for item in v_b.columns.tolist():\n",
    "#    v_b[item + '_2'] = v_b[item] ** 2\n",
    "#v_poly = poly.fit_transform(v_b)\n",
    "#v_poly = v_a.join(pd.DataFrame(v_b))"
   ]
  },
  {
   "cell_type": "code",
   "execution_count": 201,
   "metadata": {
    "collapsed": false
   },
   "outputs": [],
   "source": [
    "#all_train_interc = v[v['year'] != 2014]\n",
    "##test_interc = v[v['year'] == 2014]\n",
    "#all_train_interc['int'] = 1\n",
    "#test_interc['int'] = 1"
   ]
  },
  {
   "cell_type": "code",
   "execution_count": 282,
   "metadata": {
    "collapsed": false
   },
   "outputs": [
    {
     "data": {
      "text/plain": [
       "['year',\n",
       " 'pblk',\n",
       " 'avg_brix',\n",
       " 'time_diff',\n",
       " 'tier',\n",
       " 'long',\n",
       " 'lat',\n",
       " 'ddays50_1',\n",
       " 'ddays50_2',\n",
       " 'ddays50_3',\n",
       " 'humidity_1',\n",
       " 'humidity_2',\n",
       " 'humidity_3',\n",
       " 'cloud_cover_1',\n",
       " 'cloud_cover_2',\n",
       " 'cloud_cover_3',\n",
       " 'maxtemp_1',\n",
       " 'maxtemp_2',\n",
       " 'maxtemp_3',\n",
       " 'precip_intensity_adj_1',\n",
       " 'precip_intensity_adj_2',\n",
       " 'precip_intensity_adj_3',\n",
       " 'dew_point_1',\n",
       " 'dew_point_2',\n",
       " 'dew_point_3',\n",
       " 'wind_speed_1',\n",
       " 'wind_speed_2',\n",
       " 'wind_speed_3',\n",
       " 'yearly_elnino_jja',\n",
       " 'yearly_elnino_jas',\n",
       " 'yearly_elnino_aso',\n",
       " 'yearly_elnino_son',\n",
       " 'yearly_elnino_ond',\n",
       " 'yearly_elnino_ndj',\n",
       " 'yearly_elnino_djf',\n",
       " 'yearly_elnino_jfm',\n",
       " 'yearly_elnino_fma',\n",
       " 'yearly_elnino_mam',\n",
       " 'yearly_elnino_amj',\n",
       " 'yearly_elnino_mjj',\n",
       " 'int',\n",
       " 'tier_APT',\n",
       " 'tier_BWS',\n",
       " 'tier_CHP',\n",
       " 'tier_EJG',\n",
       " 'tier_FRU',\n",
       " 'tier_GBV',\n",
       " 'tier_GLC',\n",
       " 'tier_JCE',\n",
       " 'tier_MRU',\n",
       " 'tier_OAK',\n",
       " 'tier_OFX',\n",
       " 'tier_OKX',\n",
       " 'tier_PRE',\n",
       " 'tier_PRS',\n",
       " 'tier_RWC',\n",
       " 'tier_SVL',\n",
       " 'tier_TLV',\n",
       " 'tier_VAL']"
      ]
     },
     "execution_count": 282,
     "metadata": {},
     "output_type": "execute_result"
    }
   ],
   "source": [
    "all_train.columns.tolist()"
   ]
  },
  {
   "cell_type": "markdown",
   "metadata": {},
   "source": [
    "for one pblk, one tier in one year, we have a row vector $a$ that describe the year (34 elements)\n",
    "we construct a column vector $w$ with 37 element such that $aw$ is the slope of the line."
   ]
  },
  {
   "cell_type": "code",
   "execution_count": 283,
   "metadata": {
    "collapsed": false
   },
   "outputs": [
    {
     "name": "stdout",
     "output_type": "stream",
     "text": [
      "objective value:  870.0082649725183\n",
      "status: optimal\n"
     ]
    }
   ],
   "source": [
    "# Predict slope only\n",
    "groups = all_train.groupby(['pblk', 'tier', 'year'])\n",
    "\n",
    "all_year = []\n",
    "all_x = []\n",
    "all_y = []\n",
    "all_center = []\n",
    "all_title = []\n",
    "loss = []\n",
    "w = cv.Variable(36)\n",
    "alpha = 50\n",
    "\n",
    "for key, df in groups:\n",
    "    all_center.append((df['avg_brix'].mean(), df['time_diff'].mean()))\n",
    "    all_year.append(np.asmatrix(df.iloc[0][5:41]))\n",
    "    #a = year * w\n",
    "    all_y.append(np.asmatrix(df['avg_brix']).T)\n",
    "    all_x.append(np.asmatrix(df['time_diff']).T)\n",
    "    all_title.append(key)\n",
    "    #loss += cv.sum_entries(y - center[0] - a * (x - cneter[1]))\n",
    "\n",
    "constraints = []\n",
    "for i in range(len(all_x)):\n",
    "    constraints.append(all_year[i] * w > 0)\n",
    "    #constraints.append(all_year[i] * v > 0)\n",
    "    \n",
    "# loss function\n",
    "for i in range(len(all_x)):\n",
    "    loss.append(cv.sum_entries(cv.huber((all_y[i] - all_center[i][0]) - all_year[i] * w * (all_x[i] - all_center[i][1]))))    \n",
    "\n",
    "obj = cv.Minimize(sum(loss) + alpha * cv.sum_squares(w))\n",
    "\n",
    "# Solve problem\n",
    "prob = cv.Problem(obj, constraints)\n",
    "prob.solve()\n",
    "print('objective value: ', prob.value)\n",
    "print('status:', prob.status)"
   ]
  },
  {
   "cell_type": "code",
   "execution_count": 284,
   "metadata": {
    "collapsed": false
   },
   "outputs": [
    {
     "name": "stdout",
     "output_type": "stream",
     "text": [
      "mean absolute error: 0.26739255610283424\n"
     ]
    }
   ],
   "source": [
    "# calculate mean absolute error\n",
    "mae = 0\n",
    "for i in range(len(all_x)):\n",
    "    mae += sum(abs(all_y[i] - all_center[i][0] - float(all_year[i] * w.value) * (all_x[i] - all_center[i][1])))\n",
    "print('mean absolute error:', float(mae / all_train.shape[0]))"
   ]
  },
  {
   "cell_type": "code",
   "execution_count": 285,
   "metadata": {
    "collapsed": false
   },
   "outputs": [
    {
     "data": {
      "image/png": "[encoded data removed]",
      "text/plain": [
       "<matplotlib.figure.Figure at 0x128505240>"
      ]
     },
     "metadata": {},
     "output_type": "display_data"
    }
   ],
   "source": [
    "# plot fitted line on training set\n",
    "# i = 20 (bad), 100, 151, 1, 2000\n",
    "#i = 100\n",
    "count = 1\n",
    "fig = plt.figure(figsize=(12, 12))\n",
    "for i in range(0, len(all_year)):\n",
    "    if len(all_x[i]) >= 4:\n",
    "        a = all_year[i] * w.value\n",
    "        #b = all_year[i] * v.value\n",
    "        #x_min = float(min(all_x[i]) - 1)\n",
    "        #x_max = float(max(all_x[i]) + 1)\n",
    "        x = all_center[i][1]\n",
    "        y = all_center[i][0]\n",
    "        plt.subplot(4, 4, count)\n",
    "        plt.plot([x - 10, x + 10], [float(y - 10 * a), float(y + 10 * a)])\n",
    "        plt.gca().axes.get_xaxis().set_visible(False)\n",
    "        plt.ylim(20, 27)\n",
    "        plt.scatter(all_x[i], all_y[i])\n",
    "        plt.xlim(min(all_x[i]) - 1, max(all_x[i]) + 1)\n",
    "        plt.title(all_title[i])\n",
    "        plt.tight_layout()\n",
    "        count += 1\n",
    "        if count == 17:\n",
    "            break\n",
    "            \n",
    "#fig.savefig('fit slope train.pdf', format='pdf')"
   ]
  },
  {
   "cell_type": "code",
   "execution_count": 289,
   "metadata": {
    "collapsed": false
   },
   "outputs": [],
   "source": [
    "groups_test = test.groupby(['pblk', 'tier', 'year'])\n",
    "all_year_test = []\n",
    "all_x_test = []\n",
    "all_y_test = []\n",
    "#all_center_test = []\n",
    "all_title_test = []\n",
    "\n",
    "for key, df in groups_test:\n",
    "    #all_center_test.append((df['avg_brix'].mean(), df['time_diff'].mean()))\n",
    "    all_year_test.append(np.asmatrix(df.iloc[0][5:41]))\n",
    "    #a = year * w\n",
    "    all_y_test.append(np.asmatrix(df['avg_brix']).T)\n",
    "    all_x_test.append(np.asmatrix(df['time_diff']).T)\n",
    "    all_title_test.append(key)"
   ]
  },
  {
   "cell_type": "code",
   "execution_count": 290,
   "metadata": {
    "collapsed": false
   },
   "outputs": [
    {
     "name": "stdout",
     "output_type": "stream",
     "text": [
      "mean absolute error: 0.2810858022546246\n"
     ]
    }
   ],
   "source": [
    "# calculate mean absolute error on test set\n",
    "mae = 0\n",
    "for i in range(len(all_x_test)):\n",
    "    mae += sum(abs(all_y_test[i] - all_center_test[i][0] - float(all_year_test[i] * w.value) * (all_x_test[i] - all_center_test[i][1])))\n",
    "print('mean absolute error:', float(mae / test.shape[0]))"
   ]
  },
  {
   "cell_type": "code",
   "execution_count": 291,
   "metadata": {
    "collapsed": false
   },
   "outputs": [
    {
     "data": {
      "image/png": "[encoded data removed]",
      "text/plain": [
       "<matplotlib.figure.Figure at 0x1280b9f28>"
      ]
     },
     "metadata": {},
     "output_type": "display_data"
    }
   ],
   "source": [
    "# Plot line on test set\n",
    "# i = 0, 110, 115\n",
    "#i = 115\n",
    "\n",
    "\n",
    "count = 1\n",
    "fig = plt.figure(figsize=(12, 12))\n",
    "for i in range(0, len(all_year_test)):\n",
    "    if len(all_x_test[i]) >= 4:\n",
    "        a = all_year_test[i] * w.value\n",
    "        x = all_center_test[i][1]\n",
    "        y = all_center_test[i][0]\n",
    "        plt.subplot(4, 4, count)\n",
    "        plt.plot([x - 10, x + 10], [float(y - 10 * a), float(y + 10 * a)])\n",
    "        plt.gca().axes.get_xaxis().set_visible(False)\n",
    "        plt.ylim(18, 27)\n",
    "        plt.scatter(all_x_test[i], all_y_test[i])\n",
    "        plt.xlim(min(all_x_test[i]) - 1, max(all_x_test[i]) + 1)\n",
    "        plt.title(all_title_test[i])\n",
    "        plt.tight_layout()\n",
    "        count += 1\n",
    "        if count == 17:\n",
    "            break\n",
    "            \n",
    "#fig.savefig('fit slope test.pdf', format='pdf')\n",
    "\n",
    "#a = all_year_test[i] * w.value\n",
    "#x = all_center_test[i][1]\n",
    "#y = all_center_test[i][0]\n",
    "#plt.plot([x - 10, x + 10], [float(y - 10 * a), float(y + 10 * a)])\n",
    "#plt.scatter(all_x_test[i], all_y_test[i])\n",
    "#plt.xlim(min(all_x_test[i]) - 1, max(all_x_test[i]) + 1)\n",
    "#plt.title(all_title_test[i])"
   ]
  },
  {
   "cell_type": "code",
   "execution_count": 292,
   "metadata": {
    "collapsed": false
   },
   "outputs": [
    {
     "data": {
      "text/plain": [
       "(array([ 110.,  251.,  342.,  506.,  479.,  356.,  221.,  115.,   46.,   11.]),\n",
       " array([ -8.76004419e-09,   2.33151165e-02,   4.66302417e-02,\n",
       "          6.99453669e-02,   9.32604922e-02,   1.16575617e-01,\n",
       "          1.39890743e-01,   1.63205868e-01,   1.86520993e-01,\n",
       "          2.09836118e-01,   2.33151244e-01]),\n",
       " <a list of 10 Patch objects>)"
      ]
     },
     "execution_count": 292,
     "metadata": {},
     "output_type": "execute_result"
    },
    {
     "data": {
      "image/png": "[encoded data removed]",
      "text/plain": [
       "<matplotlib.figure.Figure at 0x124679240>"
      ]
     },
     "metadata": {},
     "output_type": "display_data"
    }
   ],
   "source": [
    "slope = []\n",
    "for i in range(len(all_year)):\n",
    "    slope.append(float(all_year[i] * w.value))\n",
    "plt.hist(slope)"
   ]
  },
  {
   "cell_type": "code",
   "execution_count": 293,
   "metadata": {
    "collapsed": false,
    "scrolled": true
   },
   "outputs": [],
   "source": [
    "#count = 0\n",
    "#for i in range(len(all_x_test)):\n",
    "#    if len(all_x_test[i]) > 4:\n",
    "#        a = all_year_test[i] * w.value\n",
    "#        x = all_center_test[i][1]\n",
    "#        y = all_center_test[i][0]\n",
    "#        plt.plot([x - 20, x + 20], [float(y - 20 * a), float(y + 20 * a)])\n",
    "#        plt.scatter(all_x_test[i], all_y_test[i])\n",
    "#        plt.xlim(min(all_x_test[i]) - 1, max(all_x_test[i]) + 1)\n",
    "#        plt.title(all_title_test[i])\n",
    "        #plt.xlim(30, 60)\n",
    "#        plt.show()\n",
    "#        count += 1\n",
    "#        if count >= 20:\n",
    "#            break"
   ]
  },
  {
   "cell_type": "code",
   "execution_count": 294,
   "metadata": {
    "collapsed": false
   },
   "outputs": [],
   "source": [
    "slope_test = []\n",
    "for i in range(len(all_year_test)):\n",
    "    slope_test.append(float(all_year_test[i] * w.value))\n",
    "#plt.hist(slope)"
   ]
  },
  {
   "cell_type": "code",
   "execution_count": 295,
   "metadata": {
    "collapsed": false
   },
   "outputs": [
    {
     "data": {
      "text/plain": [
       "<matplotlib.text.Text at 0x1275c1ef0>"
      ]
     },
     "execution_count": 295,
     "metadata": {},
     "output_type": "execute_result"
    },
    {
     "data": {
      "image/png": "[encoded data removed]",
      "text/plain": [
       "<matplotlib.figure.Figure at 0x11d3a4da0>"
      ]
     },
     "metadata": {},
     "output_type": "display_data"
    }
   ],
   "source": [
    "#fig = plt.figure(figsize=(10, 6))\n",
    "plt.hist(slope_test, bins=10)\n",
    "plt.title('Distribution of the Predicted Slope')\n",
    "#fig.savefig('slope dist.pdf', format='pdf')"
   ]
  },
  {
   "cell_type": "markdown",
   "metadata": {},
   "source": [
    "# -------"
   ]
  },
  {
   "cell_type": "code",
   "execution_count": 350,
   "metadata": {
    "collapsed": false
   },
   "outputs": [
    {
     "name": "stdout",
     "output_type": "stream",
     "text": [
      "objective value:  64948.59233733138\n",
      "status: optimal\n"
     ]
    }
   ],
   "source": [
    "# Then predict intercept\n",
    "groups = all_train.groupby(['pblk', 'tier', 'year'])\n",
    "\n",
    "all_year = []\n",
    "mu = cv.Variable(54)\n",
    "alpha = 200\n",
    "\n",
    "for key, df in groups:\n",
    "    all_year.append(np.asmatrix(df.iloc[0][5:]))\n",
    "\n",
    "constraints = []\n",
    "#constraints.append(mu[36:] < -1)\n",
    "for i in range(len(all_x)):\n",
    "    constraints.append(all_year[i] * mu > 0)\n",
    "    \n",
    "# loss function\n",
    "for i in range(len(all_x)):\n",
    "    loss.append(cv.sum_entries(cv.huber((all_y[i] - all_year[i] * mu) - slope[i] * all_x[i])))\n",
    "    \n",
    "obj = cv.Minimize(sum(loss) + alpha * cv.norm(mu[:41], 2))\n",
    "\n",
    "# Solve problem\n",
    "prob = cv.Problem(obj, constraints)\n",
    "prob.solve()\n",
    "print('objective value: ', prob.value)\n",
    "print('status:', prob.status)"
   ]
  },
  {
   "cell_type": "code",
   "execution_count": 351,
   "metadata": {
    "collapsed": false
   },
   "outputs": [
    {
     "data": {
      "text/plain": [
       "matrix([[ -7.13762827e-02],\n",
       "        [ -1.06393399e-01],\n",
       "        [  1.27433439e-01],\n",
       "        [  3.01229827e-01],\n",
       "        [  3.38409147e+00],\n",
       "        [  1.99846943e-01],\n",
       "        [  3.87063423e+00],\n",
       "        [ -5.38615208e-01],\n",
       "        [  3.42233550e-01],\n",
       "        [ -2.75932389e-01],\n",
       "        [  1.47688397e-01],\n",
       "        [ -4.78661032e-02],\n",
       "        [ -2.14615247e-02],\n",
       "        [ -3.52612258e-01],\n",
       "        [ -3.43586031e+00],\n",
       "        [ -4.70754360e+00],\n",
       "        [ -3.39512025e+00],\n",
       "        [ -8.92899722e-02],\n",
       "        [ -5.87971807e-01],\n",
       "        [  9.17301005e-01],\n",
       "        [ -7.47547461e-03],\n",
       "        [  2.17664698e-03],\n",
       "        [  2.44634723e-03],\n",
       "        [ -8.33973072e-01],\n",
       "        [  2.74540276e+00],\n",
       "        [  8.14181497e-01],\n",
       "        [ -3.97946540e+00],\n",
       "        [ -7.81984715e-01],\n",
       "        [  5.06074472e+00],\n",
       "        [ -1.90726255e+00],\n",
       "        [ -2.53585939e+00],\n",
       "        [ -3.24799640e-01],\n",
       "        [  2.50518071e+00],\n",
       "        [  6.20464297e-01],\n",
       "        [ -5.32348948e-01],\n",
       "        [ -4.93147652e-02],\n",
       "        [  1.20198165e-01],\n",
       "        [ -2.17432126e-01],\n",
       "        [ -1.24657023e+00],\n",
       "        [  5.24748687e-01],\n",
       "        [  7.69740746e-01],\n",
       "        [  7.88042567e-01],\n",
       "        [ -3.22213587e-01],\n",
       "        [  1.27378034e+00],\n",
       "        [  2.03821323e+00],\n",
       "        [  5.96484373e-01],\n",
       "        [ -1.77647300e-01],\n",
       "        [ -5.98345017e-01],\n",
       "        [  4.07657552e-01],\n",
       "        [ -2.32871901e+00],\n",
       "        [  2.77295987e-01],\n",
       "        [  3.39519429e-01],\n",
       "        [  4.90248273e-01],\n",
       "        [  1.50586827e-01]])"
      ]
     },
     "execution_count": 351,
     "metadata": {},
     "output_type": "execute_result"
    }
   ],
   "source": [
    "mu.value"
   ]
  },
  {
   "cell_type": "code",
   "execution_count": 352,
   "metadata": {
    "collapsed": false
   },
   "outputs": [
    {
     "data": {
      "text/plain": [
       "(array([  13.,   77.,  262.,  360.,  469.,  428.,  450.,  271.,   84.,   23.]),\n",
       " array([  9.59081018,  11.13461196,  12.67841374,  14.22221553,\n",
       "         15.76601731,  17.30981909,  18.85362087,  20.39742265,\n",
       "         21.94122444,  23.48502622,  25.028828  ]),\n",
       " <a list of 10 Patch objects>)"
      ]
     },
     "execution_count": 352,
     "metadata": {},
     "output_type": "execute_result"
    },
    {
     "data": {
      "image/png": "[encoded data removed]",
      "text/plain": [
       "<matplotlib.figure.Figure at 0x182dc8dd8>"
      ]
     },
     "metadata": {},
     "output_type": "display_data"
    }
   ],
   "source": [
    "intercept = []\n",
    "for i in range(len(all_year)):\n",
    "    intercept.append(float(all_year[i] * mu.value))\n",
    "plt.hist(intercept)"
   ]
  },
  {
   "cell_type": "code",
   "execution_count": 353,
   "metadata": {
    "collapsed": false
   },
   "outputs": [
    {
     "data": {
      "text/plain": [
       "(array([  9.,  29.,  12.,  30.,  24.,  27.,  16.,  13.,   4.,   3.]),\n",
       " array([ 12.87749226,  14.07209101,  15.26668975,  16.4612885 ,\n",
       "         17.65588724,  18.85048599,  20.04508473,  21.23968348,\n",
       "         22.43428222,  23.62888097,  24.82347971]),\n",
       " <a list of 10 Patch objects>)"
      ]
     },
     "execution_count": 353,
     "metadata": {},
     "output_type": "execute_result"
    },
    {
     "data": {
      "image/png": "[encoded data removed]",
      "text/plain": [
       "<matplotlib.figure.Figure at 0x17b45cb70>"
      ]
     },
     "metadata": {},
     "output_type": "display_data"
    }
   ],
   "source": [
    "groups_test = test.groupby(['pblk', 'tier', 'year'])\n",
    "all_year_test = []\n",
    "\n",
    "for key, df in groups_test:\n",
    "    all_year_test.append(np.asmatrix(df.iloc[0][5:]))\n",
    "\n",
    "intercept_test = []\n",
    "for i in range(len(all_year_test)):\n",
    "    intercept_test.append(float(all_year_test[i] * mu.value))\n",
    "plt.hist(intercept_test)"
   ]
  },
  {
   "cell_type": "code",
   "execution_count": 354,
   "metadata": {
    "collapsed": false
   },
   "outputs": [
    {
     "data": {
      "image/png": "[encoded data removed]",
      "text/plain": [
       "<matplotlib.figure.Figure at 0x1bed55550>"
      ]
     },
     "metadata": {},
     "output_type": "display_data"
    }
   ],
   "source": [
    "count = 1\n",
    "fig = plt.figure(figsize=(12, 12))\n",
    "for i in range(0, len(all_year)):\n",
    "    if len(all_x[i]) >= 4:\n",
    "        #x = all_center[i][1]\n",
    "        #y = all_center[i][0]\n",
    "        plt.subplot(4, 4, count)\n",
    "        plt.plot([0, 100], [intercept[i], intercept[i] + slope[i] * 100])\n",
    "        #plt.gca().axes.get_xaxis().set_visible(False)\n",
    "        plt.ylim(20, 27)\n",
    "        plt.scatter(all_x[i], all_y[i])\n",
    "        plt.xlim(min(all_x[i]) - 1, max(all_x[i]) + 1)\n",
    "        plt.title(all_title[i])\n",
    "        plt.tight_layout()\n",
    "        count += 1\n",
    "        if count == 17:\n",
    "            break\n",
    "            \n",
    "#fig.savefig('fit slope train.pdf', format='pdf')"
   ]
  },
  {
   "cell_type": "code",
   "execution_count": 355,
   "metadata": {
    "collapsed": false
   },
   "outputs": [
    {
     "name": "stdout",
     "output_type": "stream",
     "text": [
      "mean absolute error: 1.066267126195341\n"
     ]
    }
   ],
   "source": [
    "# calculate mean absolute error\n",
    "mae = 0\n",
    "for i in range(len(all_x)):\n",
    "    mae += sum(abs(all_y[i] - intercept[i] - slope[i] * all_x[i]))\n",
    "print('mean absolute error:', float(mae / all_train.shape[0]))"
   ]
  },
  {
   "cell_type": "code",
   "execution_count": 356,
   "metadata": {
    "collapsed": false
   },
   "outputs": [
    {
     "name": "stdout",
     "output_type": "stream",
     "text": [
      "mean absolute error: 1.0127876186639828\n"
     ]
    }
   ],
   "source": [
    "mae = 0\n",
    "for i in range(len(all_x_test)):\n",
    "    mae += sum(abs(all_y_test[i] - intercept_test[i] - slope_test[i] * all_x_test[i]))\n",
    "print('mean absolute error:', float(mae / test.shape[0]))"
   ]
  },
  {
   "cell_type": "code",
   "execution_count": null,
   "metadata": {
    "collapsed": true
   },
   "outputs": [],
   "source": []
  }
 ],
 "metadata": {
  "anaconda-cloud": {},
  "kernelspec": {
   "display_name": "Python [python35]",
   "language": "python",
   "name": "Python [python35]"
  },
  "language_info": {
   "codemirror_mode": {
    "name": "ipython",
    "version": 3
   },
   "file_extension": ".py",
   "mimetype": "text/x-python",
   "name": "python",
   "nbconvert_exporter": "python",
   "pygments_lexer": "ipython3",
   "version": "3.5.2"
  }
 },
 "nbformat": 4,
 "nbformat_minor": 0
}
