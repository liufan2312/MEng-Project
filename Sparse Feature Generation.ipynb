{
 "cells": [
  {
   "cell_type": "markdown",
   "metadata": {},
   "source": [
    "Try only use information before the harvesting season, add el nino effect as a feature, remove year, March-April is bud break, see if weather in Nov - April have a effect on harvest date, take out 2007, 2009 and 2010 as testing"
   ]
  },
  {
   "cell_type": "code",
   "execution_count": 1,
   "metadata": {
    "collapsed": false
   },
   "outputs": [],
   "source": [
    "%matplotlib inline  \n",
    "import pandas as pd\n",
    "import numpy as np\n",
    "import matplotlib.pyplot as plt\n",
    "from datetime import datetime, timedelta"
   ]
  },
  {
   "cell_type": "code",
   "execution_count": 2,
   "metadata": {
    "collapsed": false
   },
   "outputs": [],
   "source": [
    "climate = pd.read_csv('climate.csv', sep='\\t')\n",
    "deliveries = pd.read_csv('deliveries.csv', sep='\\t')"
   ]
  },
  {
   "cell_type": "code",
   "execution_count": 3,
   "metadata": {
    "collapsed": false
   },
   "outputs": [],
   "source": [
    "climate['crushdate'] = pd.to_datetime(climate['day'], format='%Y-%m-%d %H:%M:%S')\n",
    "deliveries['crushdate'] = pd.to_datetime(deliveries['crushdate'], format='%m/%d/%y')\n",
    "\n",
    "climate['year'] = climate['crushdate'].apply(lambda x: x.year).astype(int)\n",
    "climate['month'] = climate['crushdate'].apply(lambda x: x.month).astype(int)\n",
    "climate['day'] = climate['crushdate'].apply(lambda x: x.day).astype(int)\n",
    "\n",
    "deliveries['year'] = deliveries['crushdate'].apply(lambda x: x.year).astype(int)\n",
    "deliveries['month'] = deliveries['crushdate'].apply(lambda x: x.month).astype(int)\n",
    "deliveries['day'] = deliveries['crushdate'].apply(lambda x: x.day).astype(int)"
   ]
  },
  {
   "cell_type": "code",
   "execution_count": 4,
   "metadata": {
    "collapsed": true
   },
   "outputs": [],
   "source": [
    "deliveries['tier'] = deliveries['programno'].apply(lambda x: x[:3])\n",
    "deliveries['varietal'] = deliveries['programno'].apply(lambda x: x[3:6]).astype(int)\n",
    "deliveries['origin'] = deliveries['programno'].apply(lambda x: x[6:])"
   ]
  },
  {
   "cell_type": "code",
   "execution_count": 5,
   "metadata": {
    "collapsed": true
   },
   "outputs": [],
   "source": [
    "# Look at one varietal first\n",
    "v = deliveries[deliveries['varietal'] == 101]"
   ]
  },
  {
   "cell_type": "code",
   "execution_count": 6,
   "metadata": {
    "collapsed": false
   },
   "outputs": [],
   "source": [
    "v = v.sort_values(['crushdate', 'pblk'])\n",
    "avg = v.groupby(['crushdate', 'pblk']).agg({'brix':np.mean, 'tons':np.mean})\n",
    "#avg = v.groupby(['crushdate', 'pblk', 'tier']).agg({'brix':np.std})\n",
    "\n",
    "v = v.drop(['brix', 'tons'], axis=1)\n",
    "v = v.drop_duplicates(['crushdate', 'pblk'])\n",
    "\n",
    "v['avg_brix'] = avg['brix'].tolist()\n",
    "v['avg_tons'] = avg['tons'].tolist()"
   ]
  },
  {
   "cell_type": "code",
   "execution_count": 7,
   "metadata": {
    "collapsed": false
   },
   "outputs": [],
   "source": [
    "#m = avg.dropna(how='all').as_matrix()\n",
    "#np.nanmean(m) \n",
    "#avg.head()"
   ]
  },
  {
   "cell_type": "code",
   "execution_count": 8,
   "metadata": {
    "collapsed": false
   },
   "outputs": [],
   "source": [
    "groups = v.groupby(['pblk', 'year', 'tier'])\n",
    "sorted_group = sorted(groups, key=lambda x: len(x[1]), reverse=True)    "
   ]
  },
  {
   "cell_type": "code",
   "execution_count": 23,
   "metadata": {
    "collapsed": false
   },
   "outputs": [
    {
     "name": "stdout",
     "output_type": "stream",
     "text": [
      "    crushdate  year  month    pblk   avg_brix tier origin       long  \\\n",
      "0  2001-08-11  2001      8  100094  22.900000  TLV   CAL  -8493.8518   \n",
      "38 2001-08-15  2001      8  100094  23.450000  TLV   CAL  -8493.8518   \n",
      "49 2001-08-16  2001      8  100094  23.700001  TLV   CAL  -8493.8518   \n",
      "\n",
      "          lat  yesterday_ddays50    ...      humidity_1  humidity_2  \\\n",
      "0   2666.9468              20.11    ...        5.165003   58.323101   \n",
      "38  2666.9468              20.96    ...        5.165003   58.323101   \n",
      "49  2666.9468              21.57    ...        5.165003   58.323101   \n",
      "\n",
      "    humidity_3  cloud_cover_1  cloud_cover_2  cloud_cover_3    maxtemp_1  \\\n",
      "0     0.746172      53.801215     -17.179744     -16.226594  6636.494152   \n",
      "38    0.746172      53.801215     -17.179744     -16.226594  6636.494152   \n",
      "49    0.746172      53.801215     -17.179744     -16.226594  6636.494152   \n",
      "\n",
      "    maxtemp_2  maxtemp_3  time_diff  \n",
      "0    8.161382   0.982966         41  \n",
      "38   8.161382   0.982966         45  \n",
      "49   8.161382   0.982966         46  \n",
      "\n",
      "[3 rows x 122 columns]\n"
     ]
    }
   ],
   "source": [
    "groups = v.groupby(['pblk', 'year', 'tier'])\n",
    "for key, df in groups:\n",
    "    print(df)\n",
    "    break"
   ]
  },
  {
   "cell_type": "code",
   "execution_count": 9,
   "metadata": {
    "collapsed": false
   },
   "outputs": [
    {
     "data": {
      "image/png": "[encoded data removed]",
      "text/plain": [
       "<matplotlib.figure.Figure at 0x152e88c18>"
      ]
     },
     "metadata": {},
     "output_type": "display_data"
    }
   ],
   "source": [
    "figure = plt.figure(figsize=(10, 15))\n",
    "for i in range(0, 24):\n",
    "    plt.subplot(6, 4, i + 1)\n",
    "    plt.plot(sorted_group[i][1]['crushdate'], sorted_group[i][1]['avg_brix'])\n",
    "    plt.title(sorted_group[i][0])\n",
    "    plt.tight_layout()\n",
    "    plt.gca().axes.get_xaxis().set_visible(False)\n",
    "    plt.ylim(20, 27)"
   ]
  },
  {
   "cell_type": "markdown",
   "metadata": {},
   "source": [
    "# **The mean of standard deviation of brix level among the delivery on the same day from the same vineyard is 0.436"
   ]
  },
  {
   "cell_type": "code",
   "execution_count": 72,
   "metadata": {
    "collapsed": false
   },
   "outputs": [
    {
     "name": "stdout",
     "output_type": "stream",
     "text": [
      "(6103, 14)\n"
     ]
    },
    {
     "data": {
      "text/html": [
       "<div>\n",
       "<table border=\"1\" class=\"dataframe\">\n",
       "  <thead>\n",
       "    <tr style=\"text-align: right;\">\n",
       "      <th></th>\n",
       "      <th>weighttagno</th>\n",
       "      <th>tagyear</th>\n",
       "      <th>siteno</th>\n",
       "      <th>programno</th>\n",
       "      <th>crushdate</th>\n",
       "      <th>pblk</th>\n",
       "      <th>year</th>\n",
       "      <th>month</th>\n",
       "      <th>day</th>\n",
       "      <th>tier</th>\n",
       "      <th>varietal</th>\n",
       "      <th>origin</th>\n",
       "      <th>avg_brix</th>\n",
       "      <th>avg_tons</th>\n",
       "    </tr>\n",
       "  </thead>\n",
       "  <tbody>\n",
       "    <tr>\n",
       "      <th>66</th>\n",
       "      <td>793682</td>\n",
       "      <td>1</td>\n",
       "      <td>8</td>\n",
       "      <td>TLV101CAL</td>\n",
       "      <td>2001-08-11</td>\n",
       "      <td>100094</td>\n",
       "      <td>2001</td>\n",
       "      <td>8</td>\n",
       "      <td>11</td>\n",
       "      <td>TLV</td>\n",
       "      <td>101</td>\n",
       "      <td>CAL</td>\n",
       "      <td>22.900000</td>\n",
       "      <td>1.512525</td>\n",
       "    </tr>\n",
       "    <tr>\n",
       "      <th>78</th>\n",
       "      <td>793794</td>\n",
       "      <td>1</td>\n",
       "      <td>8</td>\n",
       "      <td>TLV101CAL</td>\n",
       "      <td>2001-08-11</td>\n",
       "      <td>101177</td>\n",
       "      <td>2001</td>\n",
       "      <td>8</td>\n",
       "      <td>11</td>\n",
       "      <td>TLV</td>\n",
       "      <td>101</td>\n",
       "      <td>CAL</td>\n",
       "      <td>23.200000</td>\n",
       "      <td>1.494967</td>\n",
       "    </tr>\n",
       "    <tr>\n",
       "      <th>64</th>\n",
       "      <td>793642</td>\n",
       "      <td>1</td>\n",
       "      <td>8</td>\n",
       "      <td>EJG101CAL</td>\n",
       "      <td>2001-08-11</td>\n",
       "      <td>101545</td>\n",
       "      <td>2001</td>\n",
       "      <td>8</td>\n",
       "      <td>11</td>\n",
       "      <td>EJG</td>\n",
       "      <td>101</td>\n",
       "      <td>CAL</td>\n",
       "      <td>22.571429</td>\n",
       "      <td>1.762500</td>\n",
       "    </tr>\n",
       "    <tr>\n",
       "      <th>67</th>\n",
       "      <td>793683</td>\n",
       "      <td>1</td>\n",
       "      <td>8</td>\n",
       "      <td>EJG101CAL</td>\n",
       "      <td>2001-08-11</td>\n",
       "      <td>101669</td>\n",
       "      <td>2001</td>\n",
       "      <td>8</td>\n",
       "      <td>11</td>\n",
       "      <td>EJG</td>\n",
       "      <td>101</td>\n",
       "      <td>CAL</td>\n",
       "      <td>21.675000</td>\n",
       "      <td>1.553650</td>\n",
       "    </tr>\n",
       "    <tr>\n",
       "      <th>79</th>\n",
       "      <td>793828</td>\n",
       "      <td>1</td>\n",
       "      <td>8</td>\n",
       "      <td>TLV101CAL</td>\n",
       "      <td>2001-08-11</td>\n",
       "      <td>102031</td>\n",
       "      <td>2001</td>\n",
       "      <td>8</td>\n",
       "      <td>11</td>\n",
       "      <td>TLV</td>\n",
       "      <td>101</td>\n",
       "      <td>CAL</td>\n",
       "      <td>23.550000</td>\n",
       "      <td>1.664950</td>\n",
       "    </tr>\n",
       "  </tbody>\n",
       "</table>\n",
       "</div>"
      ],
      "text/plain": [
       "    weighttagno  tagyear  siteno   programno  crushdate    pblk  year  month  \\\n",
       "66       793682        1       8  TLV101CAL  2001-08-11  100094  2001      8   \n",
       "78       793794        1       8  TLV101CAL  2001-08-11  101177  2001      8   \n",
       "64       793642        1       8  EJG101CAL  2001-08-11  101545  2001      8   \n",
       "67       793683        1       8  EJG101CAL  2001-08-11  101669  2001      8   \n",
       "79       793828        1       8  TLV101CAL  2001-08-11  102031  2001      8   \n",
       "\n",
       "    day tier  varietal origin   avg_brix  avg_tons  \n",
       "66   11  TLV       101   CAL   22.900000  1.512525  \n",
       "78   11  TLV       101   CAL   23.200000  1.494967  \n",
       "64   11  EJG       101   CAL   22.571429  1.762500  \n",
       "67   11  EJG       101   CAL   21.675000  1.553650  \n",
       "79   11  TLV       101   CAL   23.550000  1.664950  "
      ]
     },
     "execution_count": 72,
     "metadata": {},
     "output_type": "execute_result"
    }
   ],
   "source": [
    "print(v.shape)\n",
    "v.head()"
   ]
  },
  {
   "cell_type": "code",
   "execution_count": 73,
   "metadata": {
    "collapsed": true
   },
   "outputs": [],
   "source": [
    "columns = ['crushdate', 'year', 'month', 'day', 'pblk', 'avg_brix', 'tier', 'origin']\n",
    "v = v[columns]"
   ]
  },
  {
   "cell_type": "code",
   "execution_count": 74,
   "metadata": {
    "collapsed": false
   },
   "outputs": [
    {
     "data": {
      "text/plain": [
       "count       6103\n",
       "unique       212\n",
       "top       129761\n",
       "freq         130\n",
       "Name: pblk, dtype: object"
      ]
     },
     "execution_count": 74,
     "metadata": {},
     "output_type": "execute_result"
    }
   ],
   "source": [
    "v['pblk'].astype(str).describe()"
   ]
  },
  {
   "cell_type": "code",
   "execution_count": 75,
   "metadata": {
    "collapsed": true
   },
   "outputs": [],
   "source": [
    "# Add more columns to the dataframe using the climate data\n",
    "# Columns to be added:\n",
    "# logitude, latitude of the pblk\n",
    "# ddays50, ddays50_97, ddays97, humidity, cloud_cover, pressure, maxtemp, mintemp of yesterday\n",
    "# average ddays50, ddays50_97, ddays97, humidity, cloud_cover, pressure, maxtemp, mintemp for the past one week\n",
    "# average ddays50, ddays50_97, ddays97, humidity, cloud_cover, pressure, maxtemp, mintemp for the past one month\n",
    "# average ddays50, ddays50_97, ddays97, humidity, cloud_cover, pressure, maxtemp, mintemp for the past three month\n",
    "# count of ddays50, ddays50_97, ddays97, humidity, cloud_cover, pressure, maxtemp, mintemp that is greater than the mean for the past one week\n",
    "# count of ddays50, ddays50_97, ddays97, humidity, cloud_cover, pressure, maxtemp, mintemp that is greater than the mean for the past one month\n",
    "# count of ddays50, ddays50_97, ddays97, humidity, cloud_cover, pressure, maxtemp, mintemp that is greater than the mean for the past three month\n",
    "# low rank approximation of ddays50, ddays50_97, ddays97, humidity, cloud_cover, pressure, maxtemp, mintemp for each pblk"
   ]
  },
  {
   "cell_type": "code",
   "execution_count": 76,
   "metadata": {
    "collapsed": false
   },
   "outputs": [
    {
     "data": {
      "text/html": [
       "<div>\n",
       "<table border=\"1\" class=\"dataframe\">\n",
       "  <thead>\n",
       "    <tr style=\"text-align: right;\">\n",
       "      <th></th>\n",
       "      <th>crushdate</th>\n",
       "      <th>year</th>\n",
       "      <th>month</th>\n",
       "      <th>day</th>\n",
       "      <th>pblk</th>\n",
       "      <th>avg_brix</th>\n",
       "      <th>tier</th>\n",
       "      <th>origin</th>\n",
       "      <th>long</th>\n",
       "      <th>lat</th>\n",
       "    </tr>\n",
       "  </thead>\n",
       "  <tbody>\n",
       "    <tr>\n",
       "      <th>0</th>\n",
       "      <td>2001-08-11</td>\n",
       "      <td>2001</td>\n",
       "      <td>8</td>\n",
       "      <td>11</td>\n",
       "      <td>100094</td>\n",
       "      <td>22.900000</td>\n",
       "      <td>TLV</td>\n",
       "      <td>CAL</td>\n",
       "      <td>-8493.8518</td>\n",
       "      <td>2666.9468</td>\n",
       "    </tr>\n",
       "    <tr>\n",
       "      <th>1</th>\n",
       "      <td>2001-08-11</td>\n",
       "      <td>2001</td>\n",
       "      <td>8</td>\n",
       "      <td>11</td>\n",
       "      <td>101177</td>\n",
       "      <td>23.200000</td>\n",
       "      <td>TLV</td>\n",
       "      <td>CAL</td>\n",
       "      <td>-8493.5375</td>\n",
       "      <td>2669.7853</td>\n",
       "    </tr>\n",
       "    <tr>\n",
       "      <th>2</th>\n",
       "      <td>2001-08-11</td>\n",
       "      <td>2001</td>\n",
       "      <td>8</td>\n",
       "      <td>11</td>\n",
       "      <td>101545</td>\n",
       "      <td>22.571429</td>\n",
       "      <td>EJG</td>\n",
       "      <td>CAL</td>\n",
       "      <td>-8472.4521</td>\n",
       "      <td>2634.5172</td>\n",
       "    </tr>\n",
       "    <tr>\n",
       "      <th>3</th>\n",
       "      <td>2001-08-11</td>\n",
       "      <td>2001</td>\n",
       "      <td>8</td>\n",
       "      <td>11</td>\n",
       "      <td>101669</td>\n",
       "      <td>21.675000</td>\n",
       "      <td>EJG</td>\n",
       "      <td>CAL</td>\n",
       "      <td>-8454.9913</td>\n",
       "      <td>2617.1782</td>\n",
       "    </tr>\n",
       "    <tr>\n",
       "      <th>4</th>\n",
       "      <td>2001-08-11</td>\n",
       "      <td>2001</td>\n",
       "      <td>8</td>\n",
       "      <td>11</td>\n",
       "      <td>102031</td>\n",
       "      <td>23.550000</td>\n",
       "      <td>TLV</td>\n",
       "      <td>CAL</td>\n",
       "      <td>-8483.9258</td>\n",
       "      <td>2667.5747</td>\n",
       "    </tr>\n",
       "  </tbody>\n",
       "</table>\n",
       "</div>"
      ],
      "text/plain": [
       "   crushdate  year  month  day    pblk   avg_brix tier origin       long  \\\n",
       "0 2001-08-11  2001      8   11  100094  22.900000  TLV   CAL  -8493.8518   \n",
       "1 2001-08-11  2001      8   11  101177  23.200000  TLV   CAL  -8493.5375   \n",
       "2 2001-08-11  2001      8   11  101545  22.571429  EJG   CAL  -8472.4521   \n",
       "3 2001-08-11  2001      8   11  101669  21.675000  EJG   CAL  -8454.9913   \n",
       "4 2001-08-11  2001      8   11  102031  23.550000  TLV   CAL  -8483.9258   \n",
       "\n",
       "         lat  \n",
       "0  2666.9468  \n",
       "1  2669.7853  \n",
       "2  2634.5172  \n",
       "3  2617.1782  \n",
       "4  2667.5747  "
      ]
     },
     "execution_count": 76,
     "metadata": {},
     "output_type": "execute_result"
    }
   ],
   "source": [
    "# Add longitude, latitude\n",
    "location = climate[['pblk', 'long', 'lat']]\n",
    "location = location.drop_duplicates(['pblk', 'long', 'lat'])\n",
    "v = pd.merge(v, location, how=\"left\", on='pblk')\n",
    "v.head()"
   ]
  },
  {
   "cell_type": "code",
   "execution_count": 77,
   "metadata": {
    "collapsed": false
   },
   "outputs": [],
   "source": [
    "# Add ddays50, ddays50_97, ddays97, humidity, cloud_cover, pressure, maxtemp, mintemp of yesterday\n",
    "features = ['ddays50', 'ddays50_97', 'ddays97', 'humidity', 'cloud_cover', 'pressure', 'maxtemp', \n",
    "            'mintemp', 'meantemp', 'precip_intensity']\n",
    "yesterday_data = pd.DataFrame(columns=features)\n",
    "\n",
    "for i in range(0, v.shape[0]):\n",
    "    pblk = v.iloc[i].pblk\n",
    "    yesterday = v.iloc[i].crushdate - timedelta(days=1)\n",
    "    \n",
    "    yesterday_data.loc[i] = climate[(climate['pblk'] == pblk) & \n",
    "                                    (climate['year'] == yesterday.year) & \n",
    "                                    (climate['month'] == yesterday.month) & \n",
    "                                    (climate['day'] == yesterday.day)][features].iloc[0].tolist()"
   ]
  },
  {
   "cell_type": "code",
   "execution_count": 78,
   "metadata": {
    "collapsed": false
   },
   "outputs": [],
   "source": [
    "for feature in features:\n",
    "    v['yesterday_' + feature] = yesterday_data[feature]"
   ]
  },
  {
   "cell_type": "code",
   "execution_count": 79,
   "metadata": {
    "collapsed": false
   },
   "outputs": [],
   "source": [
    "# Add average ddays50, ddays50_97, ddays97, humidity, cloud_cover, pressure, maxtemp, mintemp for the past one week\n",
    "last_week_data = pd.DataFrame(columns=features)\n",
    "\n",
    "for i in range(0, v.shape[0]):\n",
    "    pblk = v.iloc[i].pblk\n",
    "    yesterday = v.iloc[i].crushdate - timedelta(days=1)\n",
    "    last_week = v.iloc[i].crushdate - timedelta(days=7)\n",
    "    \n",
    "    last_week_data.loc[i] = climate[(climate['pblk'] == pblk) & \n",
    "                               (climate['crushdate'] >= last_week) & \n",
    "                               (climate['crushdate'] <= yesterday)][features].mean().tolist()"
   ]
  },
  {
   "cell_type": "code",
   "execution_count": 80,
   "metadata": {
    "collapsed": true
   },
   "outputs": [],
   "source": [
    "for feature in features:\n",
    "    v['last_week_' + feature] = last_week_data[feature]"
   ]
  },
  {
   "cell_type": "code",
   "execution_count": 81,
   "metadata": {
    "collapsed": true
   },
   "outputs": [],
   "source": [
    "# Add average ddays50, ddays50_97, ddays97, humidity, cloud_cover, pressure, maxtemp, mintemp for the past one week\n",
    "last_month_data = pd.DataFrame(columns=features)\n",
    "\n",
    "for i in range(0, v.shape[0]):\n",
    "    pblk = v.iloc[i].pblk\n",
    "    yesterday = v.iloc[i].crushdate - timedelta(days=1)\n",
    "    last_month = v.iloc[i].crushdate - timedelta(days=31)\n",
    "    \n",
    "    last_month_data.loc[i] = climate[(climate['pblk'] == pblk) & \n",
    "                               (climate['crushdate'] >= last_month) & \n",
    "                               (climate['crushdate'] <= yesterday)][features].mean().tolist()\n",
    "    \n",
    "for feature in features:\n",
    "    v['last_month_' + feature] = last_month_data[feature]"
   ]
  },
  {
   "cell_type": "code",
   "execution_count": 82,
   "metadata": {
    "collapsed": true
   },
   "outputs": [],
   "source": [
    "# Add average ddays50, ddays50_97, ddays97, humidity, cloud_cover, pressure, maxtemp, mintemp for the past one week\n",
    "last_2week_data = pd.DataFrame(columns=features)\n",
    "\n",
    "for i in range(0, v.shape[0]):\n",
    "    pblk = v.iloc[i].pblk\n",
    "    yesterday = v.iloc[i].crushdate - timedelta(days=1)\n",
    "    last_2week = v.iloc[i].crushdate - timedelta(days=15)\n",
    "    \n",
    "    last_2week_data.loc[i] = climate[(climate['pblk'] == pblk) & \n",
    "                               (climate['crushdate'] >= last_2week) & \n",
    "                               (climate['crushdate'] <= yesterday)][features].mean().tolist()\n",
    "    \n",
    "for feature in features:\n",
    "    v['last_2week_' + feature] = last_2week_data[feature]"
   ]
  },
  {
   "cell_type": "code",
   "execution_count": 83,
   "metadata": {
    "collapsed": false
   },
   "outputs": [],
   "source": [
    "# Add average ddays50, ddays50_97, ddays97, humidity, cloud_cover, pressure, maxtemp, mintemp for the past one week\n",
    "three_month_before_data = pd.DataFrame(columns=features)\n",
    "\n",
    "for i in range(0, v.shape[0]):\n",
    "    pblk = v.iloc[i].pblk\n",
    "    two_month_ago = v.iloc[i].crushdate - timedelta(days=62)\n",
    "    three_month_ago = v.iloc[i].crushdate - timedelta(days=93)\n",
    "    \n",
    "    three_month_before_data.loc[i] = climate[(climate['pblk'] == pblk) & \n",
    "                               (climate['crushdate'] >= three_month_ago) & \n",
    "                               (climate['crushdate'] <= two_month_ago)][features].mean().tolist()"
   ]
  },
  {
   "cell_type": "code",
   "execution_count": 84,
   "metadata": {
    "collapsed": false
   },
   "outputs": [
    {
     "data": {
      "text/html": [
       "<div>\n",
       "<table border=\"1\" class=\"dataframe\">\n",
       "  <thead>\n",
       "    <tr style=\"text-align: right;\">\n",
       "      <th></th>\n",
       "      <th>ddays50</th>\n",
       "      <th>ddays50_97</th>\n",
       "      <th>ddays97</th>\n",
       "      <th>humidity</th>\n",
       "      <th>cloud_cover</th>\n",
       "      <th>pressure</th>\n",
       "      <th>maxtemp</th>\n",
       "      <th>mintemp</th>\n",
       "      <th>meantemp</th>\n",
       "      <th>precip_intensity</th>\n",
       "    </tr>\n",
       "  </thead>\n",
       "  <tbody>\n",
       "    <tr>\n",
       "      <th>0</th>\n",
       "      <td>21.068710</td>\n",
       "      <td>20.007742</td>\n",
       "      <td>0.050323</td>\n",
       "      <td>0.502258</td>\n",
       "      <td>0.071613</td>\n",
       "      <td>1012.381290</td>\n",
       "      <td>88.663226</td>\n",
       "      <td>56.000645</td>\n",
       "      <td>71.068387</td>\n",
       "      <td>0.0</td>\n",
       "    </tr>\n",
       "    <tr>\n",
       "      <th>1</th>\n",
       "      <td>21.670000</td>\n",
       "      <td>20.541613</td>\n",
       "      <td>0.054839</td>\n",
       "      <td>0.486774</td>\n",
       "      <td>0.079677</td>\n",
       "      <td>1012.196452</td>\n",
       "      <td>89.232581</td>\n",
       "      <td>56.283548</td>\n",
       "      <td>71.669677</td>\n",
       "      <td>0.0</td>\n",
       "    </tr>\n",
       "    <tr>\n",
       "      <th>2</th>\n",
       "      <td>24.204194</td>\n",
       "      <td>23.330323</td>\n",
       "      <td>0.052581</td>\n",
       "      <td>0.424516</td>\n",
       "      <td>0.015806</td>\n",
       "      <td>1011.968387</td>\n",
       "      <td>90.922258</td>\n",
       "      <td>59.439677</td>\n",
       "      <td>74.204194</td>\n",
       "      <td>0.0</td>\n",
       "    </tr>\n",
       "    <tr>\n",
       "      <th>3</th>\n",
       "      <td>24.350323</td>\n",
       "      <td>23.609032</td>\n",
       "      <td>0.046452</td>\n",
       "      <td>0.438710</td>\n",
       "      <td>0.017097</td>\n",
       "      <td>1011.765484</td>\n",
       "      <td>91.285161</td>\n",
       "      <td>58.783548</td>\n",
       "      <td>74.350323</td>\n",
       "      <td>0.0</td>\n",
       "    </tr>\n",
       "    <tr>\n",
       "      <th>4</th>\n",
       "      <td>22.603871</td>\n",
       "      <td>21.410968</td>\n",
       "      <td>0.056129</td>\n",
       "      <td>0.463548</td>\n",
       "      <td>0.053871</td>\n",
       "      <td>1012.114194</td>\n",
       "      <td>90.033548</td>\n",
       "      <td>57.215484</td>\n",
       "      <td>72.603548</td>\n",
       "      <td>0.0</td>\n",
       "    </tr>\n",
       "  </tbody>\n",
       "</table>\n",
       "</div>"
      ],
      "text/plain": [
       "     ddays50  ddays50_97   ddays97  humidity  cloud_cover     pressure  \\\n",
       "0  21.068710   20.007742  0.050323  0.502258     0.071613  1012.381290   \n",
       "1  21.670000   20.541613  0.054839  0.486774     0.079677  1012.196452   \n",
       "2  24.204194   23.330323  0.052581  0.424516     0.015806  1011.968387   \n",
       "3  24.350323   23.609032  0.046452  0.438710     0.017097  1011.765484   \n",
       "4  22.603871   21.410968  0.056129  0.463548     0.053871  1012.114194   \n",
       "\n",
       "     maxtemp    mintemp   meantemp  precip_intensity  \n",
       "0  88.663226  56.000645  71.068387               0.0  \n",
       "1  89.232581  56.283548  71.669677               0.0  \n",
       "2  90.922258  59.439677  74.204194               0.0  \n",
       "3  91.285161  58.783548  74.350323               0.0  \n",
       "4  90.033548  57.215484  72.603548               0.0  "
      ]
     },
     "execution_count": 84,
     "metadata": {},
     "output_type": "execute_result"
    }
   ],
   "source": [
    "three_month_before_data.head()"
   ]
  },
  {
   "cell_type": "code",
   "execution_count": 85,
   "metadata": {
    "collapsed": false
   },
   "outputs": [],
   "source": [
    "for feature in features:\n",
    "    v['three_month_before_' + feature] = three_month_before_data[feature]"
   ]
  },
  {
   "cell_type": "code",
   "execution_count": 86,
   "metadata": {
    "collapsed": true
   },
   "outputs": [],
   "source": [
    "four_month_before_data = pd.DataFrame(columns=features)\n",
    "\n",
    "for i in range(0, v.shape[0]):\n",
    "    pblk = v.iloc[i].pblk\n",
    "    three_month_ago = v.iloc[i].crushdate - timedelta(days=93)\n",
    "    four_month_ago = v.iloc[i].crushdate - timedelta(days=124)\n",
    "    \n",
    "    four_month_before_data.loc[i] = climate[(climate['pblk'] == pblk) & \n",
    "                                (climate['crushdate'] >= four_month_ago) & \n",
    "                                (climate['crushdate'] <= three_month_ago)][features].mean().tolist()"
   ]
  },
  {
   "cell_type": "code",
   "execution_count": 87,
   "metadata": {
    "collapsed": false
   },
   "outputs": [
    {
     "data": {
      "text/html": [
       "<div>\n",
       "<table border=\"1\" class=\"dataframe\">\n",
       "  <thead>\n",
       "    <tr style=\"text-align: right;\">\n",
       "      <th></th>\n",
       "      <th>ddays50</th>\n",
       "      <th>ddays50_97</th>\n",
       "      <th>ddays97</th>\n",
       "      <th>humidity</th>\n",
       "      <th>cloud_cover</th>\n",
       "      <th>pressure</th>\n",
       "      <th>maxtemp</th>\n",
       "      <th>mintemp</th>\n",
       "      <th>meantemp</th>\n",
       "      <th>precip_intensity</th>\n",
       "    </tr>\n",
       "  </thead>\n",
       "  <tbody>\n",
       "    <tr>\n",
       "      <th>0</th>\n",
       "      <td>11.663548</td>\n",
       "      <td>11.663548</td>\n",
       "      <td>0.000000</td>\n",
       "      <td>0.600323</td>\n",
       "      <td>0.150968</td>\n",
       "      <td>1016.805161</td>\n",
       "      <td>76.804516</td>\n",
       "      <td>47.888065</td>\n",
       "      <td>60.764839</td>\n",
       "      <td>0.025697</td>\n",
       "    </tr>\n",
       "    <tr>\n",
       "      <th>1</th>\n",
       "      <td>12.034839</td>\n",
       "      <td>12.034839</td>\n",
       "      <td>0.000000</td>\n",
       "      <td>0.590000</td>\n",
       "      <td>0.148710</td>\n",
       "      <td>1016.702581</td>\n",
       "      <td>77.038387</td>\n",
       "      <td>48.287742</td>\n",
       "      <td>61.215806</td>\n",
       "      <td>0.024639</td>\n",
       "    </tr>\n",
       "    <tr>\n",
       "      <th>2</th>\n",
       "      <td>13.089355</td>\n",
       "      <td>13.089355</td>\n",
       "      <td>0.000000</td>\n",
       "      <td>0.541613</td>\n",
       "      <td>0.129032</td>\n",
       "      <td>1016.527742</td>\n",
       "      <td>78.553548</td>\n",
       "      <td>48.891290</td>\n",
       "      <td>62.305161</td>\n",
       "      <td>0.030390</td>\n",
       "    </tr>\n",
       "    <tr>\n",
       "      <th>3</th>\n",
       "      <td>12.967742</td>\n",
       "      <td>12.903871</td>\n",
       "      <td>0.000645</td>\n",
       "      <td>0.564516</td>\n",
       "      <td>0.140645</td>\n",
       "      <td>1016.402581</td>\n",
       "      <td>78.458387</td>\n",
       "      <td>48.140645</td>\n",
       "      <td>62.081613</td>\n",
       "      <td>0.036332</td>\n",
       "    </tr>\n",
       "    <tr>\n",
       "      <th>4</th>\n",
       "      <td>12.467097</td>\n",
       "      <td>12.467097</td>\n",
       "      <td>0.000000</td>\n",
       "      <td>0.572903</td>\n",
       "      <td>0.137419</td>\n",
       "      <td>1016.634194</td>\n",
       "      <td>77.744839</td>\n",
       "      <td>48.526452</td>\n",
       "      <td>61.670645</td>\n",
       "      <td>0.024706</td>\n",
       "    </tr>\n",
       "  </tbody>\n",
       "</table>\n",
       "</div>"
      ],
      "text/plain": [
       "     ddays50  ddays50_97   ddays97  humidity  cloud_cover     pressure  \\\n",
       "0  11.663548   11.663548  0.000000  0.600323     0.150968  1016.805161   \n",
       "1  12.034839   12.034839  0.000000  0.590000     0.148710  1016.702581   \n",
       "2  13.089355   13.089355  0.000000  0.541613     0.129032  1016.527742   \n",
       "3  12.967742   12.903871  0.000645  0.564516     0.140645  1016.402581   \n",
       "4  12.467097   12.467097  0.000000  0.572903     0.137419  1016.634194   \n",
       "\n",
       "     maxtemp    mintemp   meantemp  precip_intensity  \n",
       "0  76.804516  47.888065  60.764839          0.025697  \n",
       "1  77.038387  48.287742  61.215806          0.024639  \n",
       "2  78.553548  48.891290  62.305161          0.030390  \n",
       "3  78.458387  48.140645  62.081613          0.036332  \n",
       "4  77.744839  48.526452  61.670645          0.024706  "
      ]
     },
     "execution_count": 87,
     "metadata": {},
     "output_type": "execute_result"
    }
   ],
   "source": [
    "four_month_before_data.head()"
   ]
  },
  {
   "cell_type": "code",
   "execution_count": 88,
   "metadata": {
    "collapsed": true
   },
   "outputs": [],
   "source": [
    "for feature in features:\n",
    "    v['four_month_before_' + feature] = four_month_before_data[feature]"
   ]
  },
  {
   "cell_type": "code",
   "execution_count": 89,
   "metadata": {
    "collapsed": true
   },
   "outputs": [],
   "source": [
    "five_month_before_data = pd.DataFrame(columns=features)\n",
    "\n",
    "for i in range(0, v.shape[0]):\n",
    "    pblk = v.iloc[i].pblk\n",
    "    four_month_ago = v.iloc[i].crushdate - timedelta(days=124)\n",
    "    five_month_ago = v.iloc[i].crushdate - timedelta(days=155)\n",
    "    \n",
    "    five_month_before_data.loc[i] = climate[(climate['pblk'] == pblk) & \n",
    "                                (climate['crushdate'] >= five_month_ago) & \n",
    "                                (climate['crushdate'] <= four_month_ago)][features].mean().tolist()"
   ]
  },
  {
   "cell_type": "code",
   "execution_count": 90,
   "metadata": {
    "collapsed": true
   },
   "outputs": [],
   "source": [
    "for feature in features:\n",
    "    v['five_month_before_' + feature] = five_month_before_data[feature]"
   ]
  },
  {
   "cell_type": "code",
   "execution_count": 91,
   "metadata": {
    "collapsed": true
   },
   "outputs": [],
   "source": [
    "six_month_before_data = pd.DataFrame(columns=features)\n",
    "\n",
    "for i in range(0, v.shape[0]):\n",
    "    pblk = v.iloc[i].pblk\n",
    "    five_month_ago = v.iloc[i].crushdate - timedelta(days=155)\n",
    "    six_month_ago = v.iloc[i].crushdate - timedelta(days=186)\n",
    "    \n",
    "    six_month_before_data.loc[i] = climate[(climate['pblk'] == pblk) & \n",
    "                                (climate['crushdate'] >= six_month_ago) & \n",
    "                                (climate['crushdate'] <= five_month_ago)][features].mean().tolist()\n",
    "    \n",
    "for feature in features:\n",
    "    v['six_month_before_' + feature] = six_month_before_data[feature]"
   ]
  },
  {
   "cell_type": "code",
   "execution_count": 92,
   "metadata": {
    "collapsed": true
   },
   "outputs": [],
   "source": [
    "seven_month_before_data = pd.DataFrame(columns=features)\n",
    "\n",
    "for i in range(0, v.shape[0]):\n",
    "    pblk = v.iloc[i].pblk\n",
    "    six_month_ago = v.iloc[i].crushdate - timedelta(days=186)\n",
    "    seven_month_ago = v.iloc[i].crushdate - timedelta(days=217)\n",
    "    \n",
    "    seven_month_before_data.loc[i] = climate[(climate['pblk'] == pblk) & \n",
    "                                (climate['crushdate'] >= seven_month_ago) & \n",
    "                                (climate['crushdate'] <= six_month_ago)][features].mean().tolist()\n",
    "    \n",
    "for feature in features:\n",
    "    v['seven_month_before_' + feature] = six_month_before_data[feature]"
   ]
  },
  {
   "cell_type": "code",
   "execution_count": 93,
   "metadata": {
    "collapsed": true
   },
   "outputs": [],
   "source": [
    "eight_month_before_data = pd.DataFrame(columns=features)\n",
    "\n",
    "for i in range(0, v.shape[0]):\n",
    "    pblk = v.iloc[i].pblk\n",
    "    seven_month_ago = v.iloc[i].crushdate - timedelta(days=217)\n",
    "    eight_month_ago = v.iloc[i].crushdate - timedelta(days=248)\n",
    "    \n",
    "    eight_month_before_data.loc[i] = climate[(climate['pblk'] == pblk) & \n",
    "                                (climate['crushdate'] >= eight_month_ago) & \n",
    "                                (climate['crushdate'] <= seven_month_ago)][features].mean().tolist()\n",
    "    \n",
    "for feature in features:\n",
    "    v['eight_month_before_' + feature] = six_month_before_data[feature]"
   ]
  },
  {
   "cell_type": "code",
   "execution_count": 18,
   "metadata": {
    "collapsed": true
   },
   "outputs": [],
   "source": [
    "v.to_csv('v201.csv', index=False)"
   ]
  },
  {
   "cell_type": "markdown",
   "metadata": {},
   "source": [
    "# ----"
   ]
  },
  {
   "cell_type": "code",
   "execution_count": 16,
   "metadata": {
    "collapsed": true
   },
   "outputs": [],
   "source": [
    "v = pd.read_csv('v201.csv')\n",
    "v['crushdate'] = pd.to_datetime(v['crushdate'], infer_datetime_format=True)"
   ]
  },
  {
   "cell_type": "code",
   "execution_count": 17,
   "metadata": {
    "collapsed": true
   },
   "outputs": [],
   "source": [
    "# Change the way time_diff is calculated\n",
    "v['first_date'] = '-07-01'\n",
    "v['year'] = v['year'].astype(str)\n",
    "v['start_date'] = pd.to_datetime(v['year'] + v['first_date'], format='%Y-%m-%d')\n",
    "v['time_diff'] = (v['crushdate'] - v['start_date']).astype('timedelta64[D]').astype(int)\n",
    "v = v.drop(['first_date', 'start_date'], axis=1)"
   ]
  },
  {
   "cell_type": "code",
   "execution_count": 96,
   "metadata": {
    "collapsed": false
   },
   "outputs": [
    {
     "data": {
      "text/html": [
       "<div>\n",
       "<table border=\"1\" class=\"dataframe\">\n",
       "  <thead>\n",
       "    <tr style=\"text-align: right;\">\n",
       "      <th></th>\n",
       "      <th>ddays50_1</th>\n",
       "      <th>ddays50_2</th>\n",
       "      <th>ddays50_3</th>\n",
       "      <th>pblk</th>\n",
       "    </tr>\n",
       "  </thead>\n",
       "  <tbody>\n",
       "    <tr>\n",
       "      <th>0</th>\n",
       "      <td>1611.355802</td>\n",
       "      <td>-12.218990</td>\n",
       "      <td>0.634748</td>\n",
       "      <td>100013</td>\n",
       "    </tr>\n",
       "    <tr>\n",
       "      <th>1</th>\n",
       "      <td>1367.716021</td>\n",
       "      <td>12.208003</td>\n",
       "      <td>-1.045634</td>\n",
       "      <td>100015</td>\n",
       "    </tr>\n",
       "    <tr>\n",
       "      <th>2</th>\n",
       "      <td>1370.836849</td>\n",
       "      <td>12.068548</td>\n",
       "      <td>-1.053069</td>\n",
       "      <td>100024</td>\n",
       "    </tr>\n",
       "    <tr>\n",
       "      <th>3</th>\n",
       "      <td>1727.012415</td>\n",
       "      <td>-16.562810</td>\n",
       "      <td>0.041056</td>\n",
       "      <td>100055</td>\n",
       "    </tr>\n",
       "    <tr>\n",
       "      <th>4</th>\n",
       "      <td>1346.071443</td>\n",
       "      <td>14.417660</td>\n",
       "      <td>-0.434827</td>\n",
       "      <td>100089</td>\n",
       "    </tr>\n",
       "  </tbody>\n",
       "</table>\n",
       "</div>"
      ],
      "text/plain": [
       "     ddays50_1  ddays50_2  ddays50_3    pblk\n",
       "0  1611.355802 -12.218990   0.634748  100013\n",
       "1  1367.716021  12.208003  -1.045634  100015\n",
       "2  1370.836849  12.068548  -1.053069  100024\n",
       "3  1727.012415 -16.562810   0.041056  100055\n",
       "4  1346.071443  14.417660  -0.434827  100089"
      ]
     },
     "execution_count": 96,
     "metadata": {},
     "output_type": "execute_result"
    }
   ],
   "source": [
    "lr_ddays50 = pd.read_csv('lr_ddays50.csv')\n",
    "lr_humidity = pd.read_csv('lr_humidity.csv')\n",
    "lr_cloud_cover = pd.read_csv('lr_cloud_cover.csv')\n",
    "lr_maxtemp = pd.read_csv('lr_maxtemp.csv')\n",
    "\n",
    "lr_ddays50.head()"
   ]
  },
  {
   "cell_type": "code",
   "execution_count": 97,
   "metadata": {
    "collapsed": true
   },
   "outputs": [],
   "source": [
    "v = pd.merge(v, lr_ddays50, how=\"left\", on='pblk')\n",
    "v = pd.merge(v, lr_humidity, how=\"left\", on='pblk')\n",
    "v = pd.merge(v, lr_cloud_cover, how=\"left\", on='pblk')\n",
    "v = pd.merge(v, lr_maxtemp, how=\"left\", on='pblk')"
   ]
  },
  {
   "cell_type": "code",
   "execution_count": 98,
   "metadata": {
    "collapsed": false
   },
   "outputs": [
    {
     "data": {
      "text/html": [
       "<div>\n",
       "<table border=\"1\" class=\"dataframe\">\n",
       "  <thead>\n",
       "    <tr style=\"text-align: right;\">\n",
       "      <th></th>\n",
       "      <th>crushdate</th>\n",
       "      <th>year</th>\n",
       "      <th>month</th>\n",
       "      <th>day</th>\n",
       "      <th>pblk</th>\n",
       "      <th>avg_brix</th>\n",
       "      <th>tier</th>\n",
       "      <th>origin</th>\n",
       "      <th>long</th>\n",
       "      <th>lat</th>\n",
       "      <th>...</th>\n",
       "      <th>ddays50_3</th>\n",
       "      <th>humidity_1</th>\n",
       "      <th>humidity_2</th>\n",
       "      <th>humidity_3</th>\n",
       "      <th>cloud_cover_1</th>\n",
       "      <th>cloud_cover_2</th>\n",
       "      <th>cloud_cover_3</th>\n",
       "      <th>maxtemp_1</th>\n",
       "      <th>maxtemp_2</th>\n",
       "      <th>maxtemp_3</th>\n",
       "    </tr>\n",
       "  </thead>\n",
       "  <tbody>\n",
       "    <tr>\n",
       "      <th>0</th>\n",
       "      <td>2001-08-11</td>\n",
       "      <td>2001</td>\n",
       "      <td>8</td>\n",
       "      <td>11</td>\n",
       "      <td>100094</td>\n",
       "      <td>22.900000</td>\n",
       "      <td>TLV</td>\n",
       "      <td>CAL</td>\n",
       "      <td>-8493.8518</td>\n",
       "      <td>2666.9468</td>\n",
       "      <td>...</td>\n",
       "      <td>-0.880299</td>\n",
       "      <td>5.165003</td>\n",
       "      <td>58.323101</td>\n",
       "      <td>0.746172</td>\n",
       "      <td>53.801215</td>\n",
       "      <td>-17.179744</td>\n",
       "      <td>-16.226594</td>\n",
       "      <td>6636.494152</td>\n",
       "      <td>8.161382</td>\n",
       "      <td>0.982966</td>\n",
       "    </tr>\n",
       "    <tr>\n",
       "      <th>1</th>\n",
       "      <td>2001-08-11</td>\n",
       "      <td>2001</td>\n",
       "      <td>8</td>\n",
       "      <td>11</td>\n",
       "      <td>101177</td>\n",
       "      <td>23.200000</td>\n",
       "      <td>TLV</td>\n",
       "      <td>CAL</td>\n",
       "      <td>-8493.5375</td>\n",
       "      <td>2669.7853</td>\n",
       "      <td>...</td>\n",
       "      <td>-0.438163</td>\n",
       "      <td>5.166123</td>\n",
       "      <td>58.343320</td>\n",
       "      <td>0.722323</td>\n",
       "      <td>54.070873</td>\n",
       "      <td>-17.434609</td>\n",
       "      <td>-16.148007</td>\n",
       "      <td>6644.420353</td>\n",
       "      <td>8.387873</td>\n",
       "      <td>0.768754</td>\n",
       "    </tr>\n",
       "    <tr>\n",
       "      <th>2</th>\n",
       "      <td>2001-08-11</td>\n",
       "      <td>2001</td>\n",
       "      <td>8</td>\n",
       "      <td>11</td>\n",
       "      <td>101545</td>\n",
       "      <td>22.571429</td>\n",
       "      <td>EJG</td>\n",
       "      <td>CAL</td>\n",
       "      <td>-8472.4521</td>\n",
       "      <td>2634.5172</td>\n",
       "      <td>...</td>\n",
       "      <td>-2.855970</td>\n",
       "      <td>4.854513</td>\n",
       "      <td>55.531924</td>\n",
       "      <td>-0.386679</td>\n",
       "      <td>63.004059</td>\n",
       "      <td>28.060896</td>\n",
       "      <td>10.997136</td>\n",
       "      <td>6776.373837</td>\n",
       "      <td>2.546416</td>\n",
       "      <td>-0.046823</td>\n",
       "    </tr>\n",
       "    <tr>\n",
       "      <th>3</th>\n",
       "      <td>2001-08-11</td>\n",
       "      <td>2001</td>\n",
       "      <td>8</td>\n",
       "      <td>11</td>\n",
       "      <td>101669</td>\n",
       "      <td>21.675000</td>\n",
       "      <td>EJG</td>\n",
       "      <td>CAL</td>\n",
       "      <td>-8454.9913</td>\n",
       "      <td>2617.1782</td>\n",
       "      <td>...</td>\n",
       "      <td>-1.393013</td>\n",
       "      <td>4.950029</td>\n",
       "      <td>56.548072</td>\n",
       "      <td>-0.549698</td>\n",
       "      <td>63.025726</td>\n",
       "      <td>27.942414</td>\n",
       "      <td>11.635398</td>\n",
       "      <td>6784.914007</td>\n",
       "      <td>1.323419</td>\n",
       "      <td>-1.048153</td>\n",
       "    </tr>\n",
       "    <tr>\n",
       "      <th>4</th>\n",
       "      <td>2001-08-11</td>\n",
       "      <td>2001</td>\n",
       "      <td>8</td>\n",
       "      <td>11</td>\n",
       "      <td>102031</td>\n",
       "      <td>23.550000</td>\n",
       "      <td>TLV</td>\n",
       "      <td>CAL</td>\n",
       "      <td>-8483.9258</td>\n",
       "      <td>2667.5747</td>\n",
       "      <td>...</td>\n",
       "      <td>-1.450714</td>\n",
       "      <td>5.067358</td>\n",
       "      <td>57.442546</td>\n",
       "      <td>0.318090</td>\n",
       "      <td>50.110882</td>\n",
       "      <td>-14.240416</td>\n",
       "      <td>-10.846082</td>\n",
       "      <td>6714.483520</td>\n",
       "      <td>7.168350</td>\n",
       "      <td>-0.065554</td>\n",
       "    </tr>\n",
       "  </tbody>\n",
       "</table>\n",
       "<p>5 rows × 122 columns</p>\n",
       "</div>"
      ],
      "text/plain": [
       "   crushdate  year  month  day    pblk   avg_brix tier origin       long  \\\n",
       "0 2001-08-11  2001      8   11  100094  22.900000  TLV   CAL  -8493.8518   \n",
       "1 2001-08-11  2001      8   11  101177  23.200000  TLV   CAL  -8493.5375   \n",
       "2 2001-08-11  2001      8   11  101545  22.571429  EJG   CAL  -8472.4521   \n",
       "3 2001-08-11  2001      8   11  101669  21.675000  EJG   CAL  -8454.9913   \n",
       "4 2001-08-11  2001      8   11  102031  23.550000  TLV   CAL  -8483.9258   \n",
       "\n",
       "         lat    ...      ddays50_3  humidity_1  humidity_2  humidity_3  \\\n",
       "0  2666.9468    ...      -0.880299    5.165003   58.323101    0.746172   \n",
       "1  2669.7853    ...      -0.438163    5.166123   58.343320    0.722323   \n",
       "2  2634.5172    ...      -2.855970    4.854513   55.531924   -0.386679   \n",
       "3  2617.1782    ...      -1.393013    4.950029   56.548072   -0.549698   \n",
       "4  2667.5747    ...      -1.450714    5.067358   57.442546    0.318090   \n",
       "\n",
       "   cloud_cover_1  cloud_cover_2  cloud_cover_3    maxtemp_1  maxtemp_2  \\\n",
       "0      53.801215     -17.179744     -16.226594  6636.494152   8.161382   \n",
       "1      54.070873     -17.434609     -16.148007  6644.420353   8.387873   \n",
       "2      63.004059      28.060896      10.997136  6776.373837   2.546416   \n",
       "3      63.025726      27.942414      11.635398  6784.914007   1.323419   \n",
       "4      50.110882     -14.240416     -10.846082  6714.483520   7.168350   \n",
       "\n",
       "   maxtemp_3  \n",
       "0   0.982966  \n",
       "1   0.768754  \n",
       "2  -0.046823  \n",
       "3  -1.048153  \n",
       "4  -0.065554  \n",
       "\n",
       "[5 rows x 122 columns]"
      ]
     },
     "execution_count": 98,
     "metadata": {},
     "output_type": "execute_result"
    }
   ],
   "source": [
    "v.head()"
   ]
  },
  {
   "cell_type": "code",
   "execution_count": 100,
   "metadata": {
    "collapsed": false
   },
   "outputs": [
    {
     "data": {
      "text/html": [
       "<div>\n",
       "<table border=\"1\" class=\"dataframe\">\n",
       "  <thead>\n",
       "    <tr style=\"text-align: right;\">\n",
       "      <th></th>\n",
       "      <th>year</th>\n",
       "      <th>earliest_date</th>\n",
       "    </tr>\n",
       "  </thead>\n",
       "  <tbody>\n",
       "    <tr>\n",
       "      <th>0</th>\n",
       "      <td>2001.0</td>\n",
       "      <td>2001-08-11</td>\n",
       "    </tr>\n",
       "    <tr>\n",
       "      <th>1</th>\n",
       "      <td>2002.0</td>\n",
       "      <td>2002-08-14</td>\n",
       "    </tr>\n",
       "    <tr>\n",
       "      <th>2</th>\n",
       "      <td>2003.0</td>\n",
       "      <td>2003-08-23</td>\n",
       "    </tr>\n",
       "    <tr>\n",
       "      <th>3</th>\n",
       "      <td>2004.0</td>\n",
       "      <td>2004-07-26</td>\n",
       "    </tr>\n",
       "    <tr>\n",
       "      <th>4</th>\n",
       "      <td>2005.0</td>\n",
       "      <td>2005-08-15</td>\n",
       "    </tr>\n",
       "    <tr>\n",
       "      <th>5</th>\n",
       "      <td>2006.0</td>\n",
       "      <td>2006-08-16</td>\n",
       "    </tr>\n",
       "    <tr>\n",
       "      <th>6</th>\n",
       "      <td>2007.0</td>\n",
       "      <td>2007-08-06</td>\n",
       "    </tr>\n",
       "    <tr>\n",
       "      <th>7</th>\n",
       "      <td>2008.0</td>\n",
       "      <td>2008-08-12</td>\n",
       "    </tr>\n",
       "    <tr>\n",
       "      <th>8</th>\n",
       "      <td>2009.0</td>\n",
       "      <td>2009-08-13</td>\n",
       "    </tr>\n",
       "    <tr>\n",
       "      <th>9</th>\n",
       "      <td>2010.0</td>\n",
       "      <td>2010-08-19</td>\n",
       "    </tr>\n",
       "    <tr>\n",
       "      <th>10</th>\n",
       "      <td>2011.0</td>\n",
       "      <td>2011-08-22</td>\n",
       "    </tr>\n",
       "    <tr>\n",
       "      <th>11</th>\n",
       "      <td>2012.0</td>\n",
       "      <td>2012-08-07</td>\n",
       "    </tr>\n",
       "    <tr>\n",
       "      <th>12</th>\n",
       "      <td>2013.0</td>\n",
       "      <td>2013-07-31</td>\n",
       "    </tr>\n",
       "    <tr>\n",
       "      <th>13</th>\n",
       "      <td>2014.0</td>\n",
       "      <td>2014-07-28</td>\n",
       "    </tr>\n",
       "  </tbody>\n",
       "</table>\n",
       "</div>"
      ],
      "text/plain": [
       "      year earliest_date\n",
       "0   2001.0    2001-08-11\n",
       "1   2002.0    2002-08-14\n",
       "2   2003.0    2003-08-23\n",
       "3   2004.0    2004-07-26\n",
       "4   2005.0    2005-08-15\n",
       "5   2006.0    2006-08-16\n",
       "6   2007.0    2007-08-06\n",
       "7   2008.0    2008-08-12\n",
       "8   2009.0    2009-08-13\n",
       "9   2010.0    2010-08-19\n",
       "10  2011.0    2011-08-22\n",
       "11  2012.0    2012-08-07\n",
       "12  2013.0    2013-07-31\n",
       "13  2014.0    2014-07-28"
      ]
     },
     "execution_count": 100,
     "metadata": {},
     "output_type": "execute_result"
    }
   ],
   "source": [
    "earliest_delivery"
   ]
  },
  {
   "cell_type": "code",
   "execution_count": 101,
   "metadata": {
    "collapsed": false
   },
   "outputs": [],
   "source": [
    "v['time_diff'] = (v['crushdate'] - v['earliest_date']).astype('timedelta64[D]').astype(int)\n",
    "v = v.drop(['day', 'earliest_date'], axis=1)"
   ]
  },
  {
   "cell_type": "code",
   "execution_count": 102,
   "metadata": {
    "collapsed": false
   },
   "outputs": [
    {
     "data": {
      "text/plain": [
       "['crushdate',\n",
       " 'year',\n",
       " 'month',\n",
       " 'pblk',\n",
       " 'avg_brix',\n",
       " 'tier',\n",
       " 'origin',\n",
       " 'long',\n",
       " 'lat',\n",
       " 'yesterday_ddays50',\n",
       " 'yesterday_ddays50_97',\n",
       " 'yesterday_ddays97',\n",
       " 'yesterday_humidity',\n",
       " 'yesterday_cloud_cover',\n",
       " 'yesterday_pressure',\n",
       " 'yesterday_maxtemp',\n",
       " 'yesterday_mintemp',\n",
       " 'yesterday_meantemp',\n",
       " 'yesterday_precip_intensity',\n",
       " 'last_week_ddays50',\n",
       " 'last_week_ddays50_97',\n",
       " 'last_week_ddays97',\n",
       " 'last_week_humidity',\n",
       " 'last_week_cloud_cover',\n",
       " 'last_week_pressure',\n",
       " 'last_week_maxtemp',\n",
       " 'last_week_mintemp',\n",
       " 'last_week_meantemp',\n",
       " 'last_week_precip_intensity',\n",
       " 'last_month_ddays50',\n",
       " 'last_month_ddays50_97',\n",
       " 'last_month_ddays97',\n",
       " 'last_month_humidity',\n",
       " 'last_month_cloud_cover',\n",
       " 'last_month_pressure',\n",
       " 'last_month_maxtemp',\n",
       " 'last_month_mintemp',\n",
       " 'last_month_meantemp',\n",
       " 'last_month_precip_intensity',\n",
       " 'last_2week_ddays50',\n",
       " 'last_2week_ddays50_97',\n",
       " 'last_2week_ddays97',\n",
       " 'last_2week_humidity',\n",
       " 'last_2week_cloud_cover',\n",
       " 'last_2week_pressure',\n",
       " 'last_2week_maxtemp',\n",
       " 'last_2week_mintemp',\n",
       " 'last_2week_meantemp',\n",
       " 'last_2week_precip_intensity',\n",
       " 'three_month_before_ddays50',\n",
       " 'three_month_before_ddays50_97',\n",
       " 'three_month_before_ddays97',\n",
       " 'three_month_before_humidity',\n",
       " 'three_month_before_cloud_cover',\n",
       " 'three_month_before_pressure',\n",
       " 'three_month_before_maxtemp',\n",
       " 'three_month_before_mintemp',\n",
       " 'three_month_before_meantemp',\n",
       " 'three_month_before_precip_intensity',\n",
       " 'four_month_before_ddays50',\n",
       " 'four_month_before_ddays50_97',\n",
       " 'four_month_before_ddays97',\n",
       " 'four_month_before_humidity',\n",
       " 'four_month_before_cloud_cover',\n",
       " 'four_month_before_pressure',\n",
       " 'four_month_before_maxtemp',\n",
       " 'four_month_before_mintemp',\n",
       " 'four_month_before_meantemp',\n",
       " 'four_month_before_precip_intensity',\n",
       " 'five_month_before_ddays50',\n",
       " 'five_month_before_ddays50_97',\n",
       " 'five_month_before_ddays97',\n",
       " 'five_month_before_humidity',\n",
       " 'five_month_before_cloud_cover',\n",
       " 'five_month_before_pressure',\n",
       " 'five_month_before_maxtemp',\n",
       " 'five_month_before_mintemp',\n",
       " 'five_month_before_meantemp',\n",
       " 'five_month_before_precip_intensity',\n",
       " 'six_month_before_ddays50',\n",
       " 'six_month_before_ddays50_97',\n",
       " 'six_month_before_ddays97',\n",
       " 'six_month_before_humidity',\n",
       " 'six_month_before_cloud_cover',\n",
       " 'six_month_before_pressure',\n",
       " 'six_month_before_maxtemp',\n",
       " 'six_month_before_mintemp',\n",
       " 'six_month_before_meantemp',\n",
       " 'six_month_before_precip_intensity',\n",
       " 'seven_month_before_ddays50',\n",
       " 'seven_month_before_ddays50_97',\n",
       " 'seven_month_before_ddays97',\n",
       " 'seven_month_before_humidity',\n",
       " 'seven_month_before_cloud_cover',\n",
       " 'seven_month_before_pressure',\n",
       " 'seven_month_before_maxtemp',\n",
       " 'seven_month_before_mintemp',\n",
       " 'seven_month_before_meantemp',\n",
       " 'seven_month_before_precip_intensity',\n",
       " 'eight_month_before_ddays50',\n",
       " 'eight_month_before_ddays50_97',\n",
       " 'eight_month_before_ddays97',\n",
       " 'eight_month_before_humidity',\n",
       " 'eight_month_before_cloud_cover',\n",
       " 'eight_month_before_pressure',\n",
       " 'eight_month_before_maxtemp',\n",
       " 'eight_month_before_mintemp',\n",
       " 'eight_month_before_meantemp',\n",
       " 'eight_month_before_precip_intensity',\n",
       " 'ddays50_1',\n",
       " 'ddays50_2',\n",
       " 'ddays50_3',\n",
       " 'humidity_1',\n",
       " 'humidity_2',\n",
       " 'humidity_3',\n",
       " 'cloud_cover_1',\n",
       " 'cloud_cover_2',\n",
       " 'cloud_cover_3',\n",
       " 'maxtemp_1',\n",
       " 'maxtemp_2',\n",
       " 'maxtemp_3',\n",
       " 'time_diff']"
      ]
     },
     "execution_count": 102,
     "metadata": {},
     "output_type": "execute_result"
    }
   ],
   "source": [
    "v.columns.tolist()"
   ]
  }
 ],
 "metadata": {
  "anaconda-cloud": {},
  "kernelspec": {
   "display_name": "Python [python35]",
   "language": "python",
   "name": "Python [python35]"
  },
  "language_info": {
   "codemirror_mode": {
    "name": "ipython",
    "version": 3
   },
   "file_extension": ".py",
   "mimetype": "text/x-python",
   "name": "python",
   "nbconvert_exporter": "python",
   "pygments_lexer": "ipython3",
   "version": "3.5.2"
  }
 },
 "nbformat": 4,
 "nbformat_minor": 0
}
